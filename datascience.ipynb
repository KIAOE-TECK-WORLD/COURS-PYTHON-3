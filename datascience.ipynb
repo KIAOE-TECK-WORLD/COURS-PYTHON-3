{
 "cells": [
  {
   "cell_type": "code",
   "execution_count": 1,
   "metadata": {},
   "outputs": [],
   "source": [
    "# https://pandas.pydata.org/docs/user_guide/10min.html#selection\n",
    "\n",
    "import pandas\n",
    "import numpy"
   ]
  },
  {
   "cell_type": "code",
   "execution_count": 2,
   "metadata": {},
   "outputs": [
    {
     "data": {
      "text/html": [
       "<div>\n",
       "<style scoped>\n",
       "    .dataframe tbody tr th:only-of-type {\n",
       "        vertical-align: middle;\n",
       "    }\n",
       "\n",
       "    .dataframe tbody tr th {\n",
       "        vertical-align: top;\n",
       "    }\n",
       "\n",
       "    .dataframe thead th {\n",
       "        text-align: right;\n",
       "    }\n",
       "</style>\n",
       "<table border=\"1\" class=\"dataframe\">\n",
       "  <thead>\n",
       "    <tr style=\"text-align: right;\">\n",
       "      <th></th>\n",
       "      <th>0</th>\n",
       "    </tr>\n",
       "  </thead>\n",
       "  <tbody>\n",
       "    <tr>\n",
       "      <th>0</th>\n",
       "      <td>1-874-163-4813</td>\n",
       "    </tr>\n",
       "    <tr>\n",
       "      <th>1</th>\n",
       "      <td>(152) 728-6139</td>\n",
       "    </tr>\n",
       "    <tr>\n",
       "      <th>2</th>\n",
       "      <td>1-172-472-4611</td>\n",
       "    </tr>\n",
       "    <tr>\n",
       "      <th>3</th>\n",
       "      <td>(545) 855-6787</td>\n",
       "    </tr>\n",
       "    <tr>\n",
       "      <th>4</th>\n",
       "      <td>(545) 895-6887</td>\n",
       "    </tr>\n",
       "    <tr>\n",
       "      <th>5</th>\n",
       "      <td>1-874-163-4813</td>\n",
       "    </tr>\n",
       "  </tbody>\n",
       "</table>\n",
       "</div>"
      ],
      "text/plain": [
       "                0\n",
       "0  1-874-163-4813\n",
       "1  (152) 728-6139\n",
       "2  1-172-472-4611\n",
       "3  (545) 855-6787\n",
       "4  (545) 895-6887\n",
       "5  1-874-163-4813"
      ]
     },
     "execution_count": 2,
     "metadata": {},
     "output_type": "execute_result"
    }
   ],
   "source": [
    "# Une dataframe est une structure de données\n",
    "# Elle est composée de cellules (lignes + colonnes)\n",
    "# On peut créer une dataframe a partir d'une liste\n",
    "phones = [\n",
    "    \"1-874-163-4813\", \n",
    "    \"(152) 728-6139\",\n",
    "    \"1-172-472-4611\", \n",
    "    \"(545) 855-6787\",\n",
    "    \"(545) 895-6887\",\n",
    "    \"1-874-163-4813\"\n",
    "]\n",
    "\n",
    "names = [\n",
    "    \"AISSATA\",\n",
    "    \"GUEYE Oumy\",\n",
    "    \"SERE Kader\",\n",
    "    \"YANON Olivier\",\n",
    "    \"DOSSO Rodrigue\",\n",
    "    \"KUASSI Isreal\",\n",
    "]\n",
    "\n",
    "sexes = [\n",
    "    \"Female\",\n",
    "    \"Female\",\n",
    "    \"Male\",\n",
    "    \"Male\",\n",
    "    \"Male\",\n",
    "    \"Male\",\n",
    "]\n",
    "\n",
    "salary = [\n",
    "    \"$300\",\n",
    "    \"$455\",\n",
    "    \"$656\",\n",
    "    \"$200\",\n",
    "    \"$700\",\n",
    "    \"$861\",\n",
    "]\n",
    "\n",
    "# Ici on créer la dataframe a partir de la liste phones\n",
    "# La liste est passer en paramètre via un argument de position data\n",
    "pandas.DataFrame(data=phones)"
   ]
  },
  {
   "cell_type": "code",
   "execution_count": 3,
   "metadata": {},
   "outputs": [
    {
     "data": {
      "text/html": [
       "<div>\n",
       "<style scoped>\n",
       "    .dataframe tbody tr th:only-of-type {\n",
       "        vertical-align: middle;\n",
       "    }\n",
       "\n",
       "    .dataframe tbody tr th {\n",
       "        vertical-align: top;\n",
       "    }\n",
       "\n",
       "    .dataframe thead th {\n",
       "        text-align: right;\n",
       "    }\n",
       "</style>\n",
       "<table border=\"1\" class=\"dataframe\">\n",
       "  <thead>\n",
       "    <tr style=\"text-align: right;\">\n",
       "      <th></th>\n",
       "      <th>phones</th>\n",
       "    </tr>\n",
       "  </thead>\n",
       "  <tbody>\n",
       "    <tr>\n",
       "      <th>0</th>\n",
       "      <td>1-874-163-4813</td>\n",
       "    </tr>\n",
       "    <tr>\n",
       "      <th>1</th>\n",
       "      <td>(152) 728-6139</td>\n",
       "    </tr>\n",
       "    <tr>\n",
       "      <th>2</th>\n",
       "      <td>1-172-472-4611</td>\n",
       "    </tr>\n",
       "    <tr>\n",
       "      <th>3</th>\n",
       "      <td>(545) 855-6787</td>\n",
       "    </tr>\n",
       "    <tr>\n",
       "      <th>4</th>\n",
       "      <td>(545) 895-6887</td>\n",
       "    </tr>\n",
       "    <tr>\n",
       "      <th>5</th>\n",
       "      <td>1-874-163-4813</td>\n",
       "    </tr>\n",
       "  </tbody>\n",
       "</table>\n",
       "</div>"
      ],
      "text/plain": [
       "           phones\n",
       "0  1-874-163-4813\n",
       "1  (152) 728-6139\n",
       "2  1-172-472-4611\n",
       "3  (545) 855-6787\n",
       "4  (545) 895-6887\n",
       "5  1-874-163-4813"
      ]
     },
     "execution_count": 3,
     "metadata": {},
     "output_type": "execute_result"
    }
   ],
   "source": [
    "# Dans l'exécution précédente vous remarquez un colonne 0\n",
    "# Il est possible avec pandas de définir le nom d'une colonne\n",
    "# Il suffit de passer en paramètre l'argument de position columns\n",
    "pandas.DataFrame(data=phones, columns=['phones'])\n"
   ]
  },
  {
   "cell_type": "code",
   "execution_count": 4,
   "metadata": {},
   "outputs": [
    {
     "data": {
      "text/html": [
       "<div>\n",
       "<style scoped>\n",
       "    .dataframe tbody tr th:only-of-type {\n",
       "        vertical-align: middle;\n",
       "    }\n",
       "\n",
       "    .dataframe tbody tr th {\n",
       "        vertical-align: top;\n",
       "    }\n",
       "\n",
       "    .dataframe thead th {\n",
       "        text-align: right;\n",
       "    }\n",
       "</style>\n",
       "<table border=\"1\" class=\"dataframe\">\n",
       "  <thead>\n",
       "    <tr style=\"text-align: right;\">\n",
       "      <th></th>\n",
       "      <th>phones</th>\n",
       "    </tr>\n",
       "  </thead>\n",
       "  <tbody>\n",
       "    <tr>\n",
       "      <th>0</th>\n",
       "      <td>1-874-163-4813</td>\n",
       "    </tr>\n",
       "    <tr>\n",
       "      <th>1</th>\n",
       "      <td>(152) 728-6139</td>\n",
       "    </tr>\n",
       "    <tr>\n",
       "      <th>2</th>\n",
       "      <td>1-172-472-4611</td>\n",
       "    </tr>\n",
       "    <tr>\n",
       "      <th>3</th>\n",
       "      <td>(545) 855-6787</td>\n",
       "    </tr>\n",
       "    <tr>\n",
       "      <th>4</th>\n",
       "      <td>(545) 895-6887</td>\n",
       "    </tr>\n",
       "    <tr>\n",
       "      <th>5</th>\n",
       "      <td>1-874-163-4813</td>\n",
       "    </tr>\n",
       "  </tbody>\n",
       "</table>\n",
       "</div>"
      ],
      "text/plain": [
       "           phones\n",
       "0  1-874-163-4813\n",
       "1  (152) 728-6139\n",
       "2  1-172-472-4611\n",
       "3  (545) 855-6787\n",
       "4  (545) 895-6887\n",
       "5  1-874-163-4813"
      ]
     },
     "execution_count": 4,
     "metadata": {},
     "output_type": "execute_result"
    }
   ],
   "source": [
    "# On peut y mettre plusieurs données\n",
    "# Approche par la syntax du dictionnaire\n",
    "# Utiliser l'approche du dictionnaire donnerais ceci:\n",
    "pandas.DataFrame(data={'phones': phones})\n"
   ]
  },
  {
   "cell_type": "code",
   "execution_count": 5,
   "metadata": {},
   "outputs": [
    {
     "data": {
      "text/html": [
       "<div>\n",
       "<style scoped>\n",
       "    .dataframe tbody tr th:only-of-type {\n",
       "        vertical-align: middle;\n",
       "    }\n",
       "\n",
       "    .dataframe tbody tr th {\n",
       "        vertical-align: top;\n",
       "    }\n",
       "\n",
       "    .dataframe thead th {\n",
       "        text-align: right;\n",
       "    }\n",
       "</style>\n",
       "<table border=\"1\" class=\"dataframe\">\n",
       "  <thead>\n",
       "    <tr style=\"text-align: right;\">\n",
       "      <th></th>\n",
       "      <th>phones</th>\n",
       "      <th>names</th>\n",
       "    </tr>\n",
       "  </thead>\n",
       "  <tbody>\n",
       "    <tr>\n",
       "      <th>0</th>\n",
       "      <td>1-874-163-4813</td>\n",
       "      <td>AISSATA</td>\n",
       "    </tr>\n",
       "    <tr>\n",
       "      <th>1</th>\n",
       "      <td>(152) 728-6139</td>\n",
       "      <td>GUEYE Oumy</td>\n",
       "    </tr>\n",
       "    <tr>\n",
       "      <th>2</th>\n",
       "      <td>1-172-472-4611</td>\n",
       "      <td>SERE Kader</td>\n",
       "    </tr>\n",
       "    <tr>\n",
       "      <th>3</th>\n",
       "      <td>(545) 855-6787</td>\n",
       "      <td>YANON Olivier</td>\n",
       "    </tr>\n",
       "    <tr>\n",
       "      <th>4</th>\n",
       "      <td>(545) 895-6887</td>\n",
       "      <td>DOSSO Rodrigue</td>\n",
       "    </tr>\n",
       "    <tr>\n",
       "      <th>5</th>\n",
       "      <td>1-874-163-4813</td>\n",
       "      <td>KUASSI Isreal</td>\n",
       "    </tr>\n",
       "  </tbody>\n",
       "</table>\n",
       "</div>"
      ],
      "text/plain": [
       "           phones           names\n",
       "0  1-874-163-4813         AISSATA\n",
       "1  (152) 728-6139      GUEYE Oumy\n",
       "2  1-172-472-4611      SERE Kader\n",
       "3  (545) 855-6787   YANON Olivier\n",
       "4  (545) 895-6887  DOSSO Rodrigue\n",
       "5  1-874-163-4813   KUASSI Isreal"
      ]
     },
     "execution_count": 5,
     "metadata": {},
     "output_type": "execute_result"
    }
   ],
   "source": [
    "# On peut y mettre plusieurs données\n",
    "# Ici pour la création il faut que toutes les listes aient la même longueur\n",
    "# Condition len(phones) => len(names) => len(salary)...\n",
    "# Approche par la syntax du dictionnaire\n",
    "# Utiliser l'approche du dictionnaire donnerais ceci:\n",
    "pandas.DataFrame(data={'phones': phones, 'names': names})\n"
   ]
  },
  {
   "cell_type": "code",
   "execution_count": 6,
   "metadata": {},
   "outputs": [
    {
     "data": {
      "text/html": [
       "<div>\n",
       "<style scoped>\n",
       "    .dataframe tbody tr th:only-of-type {\n",
       "        vertical-align: middle;\n",
       "    }\n",
       "\n",
       "    .dataframe tbody tr th {\n",
       "        vertical-align: top;\n",
       "    }\n",
       "\n",
       "    .dataframe thead th {\n",
       "        text-align: right;\n",
       "    }\n",
       "</style>\n",
       "<table border=\"1\" class=\"dataframe\">\n",
       "  <thead>\n",
       "    <tr style=\"text-align: right;\">\n",
       "      <th></th>\n",
       "      <th>phones</th>\n",
       "      <th>names</th>\n",
       "      <th>sexes</th>\n",
       "      <th>salary</th>\n",
       "    </tr>\n",
       "  </thead>\n",
       "  <tbody>\n",
       "    <tr>\n",
       "      <th>0</th>\n",
       "      <td>1-874-163-4813</td>\n",
       "      <td>AISSATA</td>\n",
       "      <td>Female</td>\n",
       "      <td>$300</td>\n",
       "    </tr>\n",
       "    <tr>\n",
       "      <th>1</th>\n",
       "      <td>(152) 728-6139</td>\n",
       "      <td>GUEYE Oumy</td>\n",
       "      <td>Female</td>\n",
       "      <td>$455</td>\n",
       "    </tr>\n",
       "    <tr>\n",
       "      <th>2</th>\n",
       "      <td>1-172-472-4611</td>\n",
       "      <td>SERE Kader</td>\n",
       "      <td>Male</td>\n",
       "      <td>$656</td>\n",
       "    </tr>\n",
       "    <tr>\n",
       "      <th>3</th>\n",
       "      <td>(545) 855-6787</td>\n",
       "      <td>YANON Olivier</td>\n",
       "      <td>Male</td>\n",
       "      <td>$200</td>\n",
       "    </tr>\n",
       "    <tr>\n",
       "      <th>4</th>\n",
       "      <td>(545) 895-6887</td>\n",
       "      <td>DOSSO Rodrigue</td>\n",
       "      <td>Male</td>\n",
       "      <td>$700</td>\n",
       "    </tr>\n",
       "    <tr>\n",
       "      <th>5</th>\n",
       "      <td>1-874-163-4813</td>\n",
       "      <td>KUASSI Isreal</td>\n",
       "      <td>Male</td>\n",
       "      <td>$861</td>\n",
       "    </tr>\n",
       "  </tbody>\n",
       "</table>\n",
       "</div>"
      ],
      "text/plain": [
       "           phones           names   sexes salary\n",
       "0  1-874-163-4813         AISSATA  Female   $300\n",
       "1  (152) 728-6139      GUEYE Oumy  Female   $455\n",
       "2  1-172-472-4611      SERE Kader    Male   $656\n",
       "3  (545) 855-6787   YANON Olivier    Male   $200\n",
       "4  (545) 895-6887  DOSSO Rodrigue    Male   $700\n",
       "5  1-874-163-4813   KUASSI Isreal    Male   $861"
      ]
     },
     "execution_count": 6,
     "metadata": {},
     "output_type": "execute_result"
    }
   ],
   "source": [
    "# On peut y mettre plusieurs données\n",
    "# Ainsi formons notre dataframe au complet\n",
    "pandas.DataFrame(data={\n",
    "    'phones': phones, \n",
    "    'names': names,\n",
    "    'sexes': sexes,\n",
    "    'salary': salary,\n",
    "})"
   ]
  },
  {
   "cell_type": "code",
   "execution_count": 7,
   "metadata": {},
   "outputs": [],
   "source": [
    "# Affecttons la dataframe a une variable\n",
    "dataframe = pandas.DataFrame(data={\n",
    "    'phones': phones,\n",
    "    'names': names,\n",
    "    'sexes': sexes,\n",
    "    'salary': salary,\n",
    "})"
   ]
  },
  {
   "cell_type": "code",
   "execution_count": 8,
   "metadata": {},
   "outputs": [
    {
     "data": {
      "text/html": [
       "<div>\n",
       "<style scoped>\n",
       "    .dataframe tbody tr th:only-of-type {\n",
       "        vertical-align: middle;\n",
       "    }\n",
       "\n",
       "    .dataframe tbody tr th {\n",
       "        vertical-align: top;\n",
       "    }\n",
       "\n",
       "    .dataframe thead th {\n",
       "        text-align: right;\n",
       "    }\n",
       "</style>\n",
       "<table border=\"1\" class=\"dataframe\">\n",
       "  <thead>\n",
       "    <tr style=\"text-align: right;\">\n",
       "      <th></th>\n",
       "      <th>phones</th>\n",
       "      <th>names</th>\n",
       "      <th>sexes</th>\n",
       "      <th>salary</th>\n",
       "    </tr>\n",
       "  </thead>\n",
       "  <tbody>\n",
       "    <tr>\n",
       "      <th>0</th>\n",
       "      <td>1-874-163-4813</td>\n",
       "      <td>AISSATA</td>\n",
       "      <td>Female</td>\n",
       "      <td>$300</td>\n",
       "    </tr>\n",
       "    <tr>\n",
       "      <th>1</th>\n",
       "      <td>(152) 728-6139</td>\n",
       "      <td>GUEYE Oumy</td>\n",
       "      <td>Female</td>\n",
       "      <td>$455</td>\n",
       "    </tr>\n",
       "    <tr>\n",
       "      <th>2</th>\n",
       "      <td>1-172-472-4611</td>\n",
       "      <td>SERE Kader</td>\n",
       "      <td>Male</td>\n",
       "      <td>$656</td>\n",
       "    </tr>\n",
       "  </tbody>\n",
       "</table>\n",
       "</div>"
      ],
      "text/plain": [
       "           phones       names   sexes salary\n",
       "0  1-874-163-4813     AISSATA  Female   $300\n",
       "1  (152) 728-6139  GUEYE Oumy  Female   $455\n",
       "2  1-172-472-4611  SERE Kader    Male   $656"
      ]
     },
     "execution_count": 8,
     "metadata": {},
     "output_type": "execute_result"
    }
   ],
   "source": [
    "# Afficher les informations de la dataframe\n",
    "# Afficher les 3 premieres lignes\n",
    "dataframe.head(n=3)"
   ]
  },
  {
   "cell_type": "code",
   "execution_count": 9,
   "metadata": {},
   "outputs": [
    {
     "data": {
      "text/html": [
       "<div>\n",
       "<style scoped>\n",
       "    .dataframe tbody tr th:only-of-type {\n",
       "        vertical-align: middle;\n",
       "    }\n",
       "\n",
       "    .dataframe tbody tr th {\n",
       "        vertical-align: top;\n",
       "    }\n",
       "\n",
       "    .dataframe thead th {\n",
       "        text-align: right;\n",
       "    }\n",
       "</style>\n",
       "<table border=\"1\" class=\"dataframe\">\n",
       "  <thead>\n",
       "    <tr style=\"text-align: right;\">\n",
       "      <th></th>\n",
       "      <th>phones</th>\n",
       "      <th>names</th>\n",
       "      <th>sexes</th>\n",
       "      <th>salary</th>\n",
       "    </tr>\n",
       "  </thead>\n",
       "  <tbody>\n",
       "    <tr>\n",
       "      <th>3</th>\n",
       "      <td>(545) 855-6787</td>\n",
       "      <td>YANON Olivier</td>\n",
       "      <td>Male</td>\n",
       "      <td>$200</td>\n",
       "    </tr>\n",
       "    <tr>\n",
       "      <th>4</th>\n",
       "      <td>(545) 895-6887</td>\n",
       "      <td>DOSSO Rodrigue</td>\n",
       "      <td>Male</td>\n",
       "      <td>$700</td>\n",
       "    </tr>\n",
       "    <tr>\n",
       "      <th>5</th>\n",
       "      <td>1-874-163-4813</td>\n",
       "      <td>KUASSI Isreal</td>\n",
       "      <td>Male</td>\n",
       "      <td>$861</td>\n",
       "    </tr>\n",
       "  </tbody>\n",
       "</table>\n",
       "</div>"
      ],
      "text/plain": [
       "           phones           names sexes salary\n",
       "3  (545) 855-6787   YANON Olivier  Male   $200\n",
       "4  (545) 895-6887  DOSSO Rodrigue  Male   $700\n",
       "5  1-874-163-4813   KUASSI Isreal  Male   $861"
      ]
     },
     "execution_count": 9,
     "metadata": {},
     "output_type": "execute_result"
    }
   ],
   "source": [
    "# Afficher les informations de la dataframe\n",
    "# Afficher les 3 dernières lignes\n",
    "dataframe.tail(n=3)\n"
   ]
  },
  {
   "cell_type": "code",
   "execution_count": 10,
   "metadata": {},
   "outputs": [
    {
     "data": {
      "text/plain": [
       "0           AISSATA\n",
       "1        GUEYE Oumy\n",
       "2        SERE Kader\n",
       "3     YANON Olivier\n",
       "4    DOSSO Rodrigue\n",
       "5     KUASSI Isreal\n",
       "Name: names, dtype: object"
      ]
     },
     "execution_count": 10,
     "metadata": {},
     "output_type": "execute_result"
    }
   ],
   "source": [
    "# Afficher les informations de la dataframe\n",
    "# Afficher une colonne\n",
    "# Première approche\n",
    "dataframe['names']\n"
   ]
  },
  {
   "cell_type": "code",
   "execution_count": 11,
   "metadata": {},
   "outputs": [
    {
     "data": {
      "text/plain": [
       "0           AISSATA\n",
       "1        GUEYE Oumy\n",
       "2        SERE Kader\n",
       "3     YANON Olivier\n",
       "4    DOSSO Rodrigue\n",
       "5     KUASSI Isreal\n",
       "Name: names, dtype: object"
      ]
     },
     "execution_count": 11,
     "metadata": {},
     "output_type": "execute_result"
    }
   ],
   "source": [
    "# Afficher les informations de la dataframe\n",
    "# Afficher une colonne\n",
    "# Deuxième approche\n",
    "dataframe.names\n"
   ]
  },
  {
   "cell_type": "code",
   "execution_count": 12,
   "metadata": {},
   "outputs": [
    {
     "data": {
      "text/html": [
       "<div>\n",
       "<style scoped>\n",
       "    .dataframe tbody tr th:only-of-type {\n",
       "        vertical-align: middle;\n",
       "    }\n",
       "\n",
       "    .dataframe tbody tr th {\n",
       "        vertical-align: top;\n",
       "    }\n",
       "\n",
       "    .dataframe thead th {\n",
       "        text-align: right;\n",
       "    }\n",
       "</style>\n",
       "<table border=\"1\" class=\"dataframe\">\n",
       "  <thead>\n",
       "    <tr style=\"text-align: right;\">\n",
       "      <th></th>\n",
       "      <th>names</th>\n",
       "      <th>phones</th>\n",
       "    </tr>\n",
       "  </thead>\n",
       "  <tbody>\n",
       "    <tr>\n",
       "      <th>0</th>\n",
       "      <td>AISSATA</td>\n",
       "      <td>1-874-163-4813</td>\n",
       "    </tr>\n",
       "    <tr>\n",
       "      <th>1</th>\n",
       "      <td>GUEYE Oumy</td>\n",
       "      <td>(152) 728-6139</td>\n",
       "    </tr>\n",
       "    <tr>\n",
       "      <th>2</th>\n",
       "      <td>SERE Kader</td>\n",
       "      <td>1-172-472-4611</td>\n",
       "    </tr>\n",
       "    <tr>\n",
       "      <th>3</th>\n",
       "      <td>YANON Olivier</td>\n",
       "      <td>(545) 855-6787</td>\n",
       "    </tr>\n",
       "    <tr>\n",
       "      <th>4</th>\n",
       "      <td>DOSSO Rodrigue</td>\n",
       "      <td>(545) 895-6887</td>\n",
       "    </tr>\n",
       "    <tr>\n",
       "      <th>5</th>\n",
       "      <td>KUASSI Isreal</td>\n",
       "      <td>1-874-163-4813</td>\n",
       "    </tr>\n",
       "  </tbody>\n",
       "</table>\n",
       "</div>"
      ],
      "text/plain": [
       "            names          phones\n",
       "0         AISSATA  1-874-163-4813\n",
       "1      GUEYE Oumy  (152) 728-6139\n",
       "2      SERE Kader  1-172-472-4611\n",
       "3   YANON Olivier  (545) 855-6787\n",
       "4  DOSSO Rodrigue  (545) 895-6887\n",
       "5   KUASSI Isreal  1-874-163-4813"
      ]
     },
     "execution_count": 12,
     "metadata": {},
     "output_type": "execute_result"
    }
   ],
   "source": [
    "# Afficher les informations de la dataframe\n",
    "# Afficher deux colonnes comme étant une sous dataframe\n",
    "# Première approche\n",
    "dataframe[['names', 'phones']]"
   ]
  },
  {
   "cell_type": "code",
   "execution_count": 13,
   "metadata": {},
   "outputs": [
    {
     "data": {
      "text/plain": [
       "(6, 4)"
      ]
     },
     "execution_count": 13,
     "metadata": {},
     "output_type": "execute_result"
    }
   ],
   "source": [
    "# Afficher les informations de la dataframe\n",
    "# Afficher les dimensions de la dataframe\n",
    "# On utilise l'attribut shape\n",
    "dataframe.shape\n"
   ]
  },
  {
   "cell_type": "code",
   "execution_count": 14,
   "metadata": {},
   "outputs": [
    {
     "data": {
      "text/plain": [
       "Index(['phones', 'names', 'sexes', 'salary'], dtype='object')"
      ]
     },
     "execution_count": 14,
     "metadata": {},
     "output_type": "execute_result"
    }
   ],
   "source": [
    "# Afficher les informations de la dataframe\n",
    "# Afficher le nom des colonnes de la dataframe\n",
    "# Il faut utiliser l'attribut columns\n",
    "dataframe.columns\n"
   ]
  },
  {
   "cell_type": "code",
   "execution_count": 15,
   "metadata": {},
   "outputs": [
    {
     "data": {
      "text/plain": [
       "['phones', 'names', 'sexes', 'salary']"
      ]
     },
     "execution_count": 15,
     "metadata": {},
     "output_type": "execute_result"
    }
   ],
   "source": [
    "# Afficher les informations de la dataframe\n",
    "# Afficher le nom des colonnes de la dataframe\n",
    "# Il faut utiliser l'attribut columns\n",
    "# Le type Index par défaut peut être caster en list\n",
    "list(dataframe.columns)\n"
   ]
  },
  {
   "cell_type": "code",
   "execution_count": 16,
   "metadata": {},
   "outputs": [
    {
     "data": {
      "text/html": [
       "<div>\n",
       "<style scoped>\n",
       "    .dataframe tbody tr th:only-of-type {\n",
       "        vertical-align: middle;\n",
       "    }\n",
       "\n",
       "    .dataframe tbody tr th {\n",
       "        vertical-align: top;\n",
       "    }\n",
       "\n",
       "    .dataframe thead th {\n",
       "        text-align: right;\n",
       "    }\n",
       "</style>\n",
       "<table border=\"1\" class=\"dataframe\">\n",
       "  <thead>\n",
       "    <tr style=\"text-align: right;\">\n",
       "      <th></th>\n",
       "      <th>phones</th>\n",
       "      <th>names</th>\n",
       "      <th>sexes</th>\n",
       "      <th>salary</th>\n",
       "    </tr>\n",
       "  </thead>\n",
       "  <tbody>\n",
       "    <tr>\n",
       "      <th>count</th>\n",
       "      <td>6</td>\n",
       "      <td>6</td>\n",
       "      <td>6</td>\n",
       "      <td>6</td>\n",
       "    </tr>\n",
       "    <tr>\n",
       "      <th>unique</th>\n",
       "      <td>5</td>\n",
       "      <td>6</td>\n",
       "      <td>2</td>\n",
       "      <td>6</td>\n",
       "    </tr>\n",
       "    <tr>\n",
       "      <th>top</th>\n",
       "      <td>1-874-163-4813</td>\n",
       "      <td>AISSATA</td>\n",
       "      <td>Male</td>\n",
       "      <td>$300</td>\n",
       "    </tr>\n",
       "    <tr>\n",
       "      <th>freq</th>\n",
       "      <td>2</td>\n",
       "      <td>1</td>\n",
       "      <td>4</td>\n",
       "      <td>1</td>\n",
       "    </tr>\n",
       "  </tbody>\n",
       "</table>\n",
       "</div>"
      ],
      "text/plain": [
       "                phones    names sexes salary\n",
       "count                6        6     6      6\n",
       "unique               5        6     2      6\n",
       "top     1-874-163-4813  AISSATA  Male   $300\n",
       "freq                 2        1     4      1"
      ]
     },
     "execution_count": 16,
     "metadata": {},
     "output_type": "execute_result"
    }
   ],
   "source": [
    "# Afficher les informations de la dataframe\n",
    "# Afficher la description de la dataframe\n",
    "dataframe.describe()\n"
   ]
  },
  {
   "cell_type": "code",
   "execution_count": 17,
   "metadata": {},
   "outputs": [
    {
     "data": {
      "text/plain": [
       "phones    object\n",
       "names     object\n",
       "sexes     object\n",
       "salary    object\n",
       "dtype: object"
      ]
     },
     "execution_count": 17,
     "metadata": {},
     "output_type": "execute_result"
    }
   ],
   "source": [
    "# Afficher les informations de la dataframe\n",
    "# Afficher le type des colonnes\n",
    "# Il faut utiliser l'attribut dtypes\n",
    "dataframe.dtypes\n"
   ]
  },
  {
   "cell_type": "code",
   "execution_count": 18,
   "metadata": {},
   "outputs": [],
   "source": [
    "# Modification des types des données des colonnes\n",
    "# Il faut utiliser la fonction astypes\n",
    "# Vous aviez la possibilité d'utiliser les types numpy\n",
    "dataframe['phones'] = dataframe['phones'].astype(str)\n",
    "dataframe['names'] = dataframe['names'].astype(str)\n",
    "dataframe['sexes'] = dataframe['sexes'].astype(str)\n",
    "dataframe['salary'] = dataframe['salary'].astype(str)\n"
   ]
  },
  {
   "cell_type": "code",
   "execution_count": 19,
   "metadata": {},
   "outputs": [
    {
     "data": {
      "text/plain": [
       "(str, str)"
      ]
     },
     "execution_count": 19,
     "metadata": {},
     "output_type": "execute_result"
    }
   ],
   "source": [
    "# Modification des types des données des colonnes\n",
    "# Vérification du casting des types objects en string\n",
    "type(dataframe['phones'][0]), type(dataframe['salary'][0])\n"
   ]
  },
  {
   "cell_type": "code",
   "execution_count": 20,
   "metadata": {},
   "outputs": [
    {
     "data": {
      "text/html": [
       "<div>\n",
       "<style scoped>\n",
       "    .dataframe tbody tr th:only-of-type {\n",
       "        vertical-align: middle;\n",
       "    }\n",
       "\n",
       "    .dataframe tbody tr th {\n",
       "        vertical-align: top;\n",
       "    }\n",
       "\n",
       "    .dataframe thead th {\n",
       "        text-align: right;\n",
       "    }\n",
       "</style>\n",
       "<table border=\"1\" class=\"dataframe\">\n",
       "  <thead>\n",
       "    <tr style=\"text-align: right;\">\n",
       "      <th></th>\n",
       "      <th>phones</th>\n",
       "      <th>Names</th>\n",
       "      <th>sexes</th>\n",
       "      <th>salary</th>\n",
       "    </tr>\n",
       "  </thead>\n",
       "  <tbody>\n",
       "    <tr>\n",
       "      <th>0</th>\n",
       "      <td>1-874-163-4813</td>\n",
       "      <td>AISSATA</td>\n",
       "      <td>Female</td>\n",
       "      <td>$300</td>\n",
       "    </tr>\n",
       "    <tr>\n",
       "      <th>1</th>\n",
       "      <td>(152) 728-6139</td>\n",
       "      <td>GUEYE Oumy</td>\n",
       "      <td>Female</td>\n",
       "      <td>$455</td>\n",
       "    </tr>\n",
       "    <tr>\n",
       "      <th>2</th>\n",
       "      <td>1-172-472-4611</td>\n",
       "      <td>SERE Kader</td>\n",
       "      <td>Male</td>\n",
       "      <td>$656</td>\n",
       "    </tr>\n",
       "    <tr>\n",
       "      <th>3</th>\n",
       "      <td>(545) 855-6787</td>\n",
       "      <td>YANON Olivier</td>\n",
       "      <td>Male</td>\n",
       "      <td>$200</td>\n",
       "    </tr>\n",
       "    <tr>\n",
       "      <th>4</th>\n",
       "      <td>(545) 895-6887</td>\n",
       "      <td>DOSSO Rodrigue</td>\n",
       "      <td>Male</td>\n",
       "      <td>$700</td>\n",
       "    </tr>\n",
       "    <tr>\n",
       "      <th>5</th>\n",
       "      <td>1-874-163-4813</td>\n",
       "      <td>KUASSI Isreal</td>\n",
       "      <td>Male</td>\n",
       "      <td>$861</td>\n",
       "    </tr>\n",
       "  </tbody>\n",
       "</table>\n",
       "</div>"
      ],
      "text/plain": [
       "           phones           Names   sexes salary\n",
       "0  1-874-163-4813         AISSATA  Female   $300\n",
       "1  (152) 728-6139      GUEYE Oumy  Female   $455\n",
       "2  1-172-472-4611      SERE Kader    Male   $656\n",
       "3  (545) 855-6787   YANON Olivier    Male   $200\n",
       "4  (545) 895-6887  DOSSO Rodrigue    Male   $700\n",
       "5  1-874-163-4813   KUASSI Isreal    Male   $861"
      ]
     },
     "execution_count": 20,
     "metadata": {},
     "output_type": "execute_result"
    }
   ],
   "source": [
    "# Modification du nom d'une colonne\n",
    "# Il faut utiliser la fonction rename\n",
    "# Appliquer le changement ancien_nom -> nouveau_nom\n",
    "dataframe.rename(columns={'names': 'Names'})\n"
   ]
  },
  {
   "cell_type": "code",
   "execution_count": 21,
   "metadata": {},
   "outputs": [],
   "source": [
    "# Modification du nom d'une colonne\n",
    "# Il faut utiliser la fonction rename\n",
    "# Appliquer le changement ancien_nom -> nouveau_nom\n",
    "dataframe = dataframe.rename(columns={\n",
    "    'names': 'Name', \n",
    "    'phones': 'Phone',\n",
    "    'sexes': 'Sexe',\n",
    "    'salary': 'Salary'\n",
    "})\n"
   ]
  },
  {
   "cell_type": "code",
   "execution_count": 22,
   "metadata": {},
   "outputs": [
    {
     "data": {
      "text/html": [
       "<div>\n",
       "<style scoped>\n",
       "    .dataframe tbody tr th:only-of-type {\n",
       "        vertical-align: middle;\n",
       "    }\n",
       "\n",
       "    .dataframe tbody tr th {\n",
       "        vertical-align: top;\n",
       "    }\n",
       "\n",
       "    .dataframe thead th {\n",
       "        text-align: right;\n",
       "    }\n",
       "</style>\n",
       "<table border=\"1\" class=\"dataframe\">\n",
       "  <thead>\n",
       "    <tr style=\"text-align: right;\">\n",
       "      <th></th>\n",
       "      <th>Phone</th>\n",
       "      <th>Name</th>\n",
       "      <th>Sexe</th>\n",
       "      <th>Salary</th>\n",
       "    </tr>\n",
       "  </thead>\n",
       "  <tbody>\n",
       "    <tr>\n",
       "      <th>0</th>\n",
       "      <td>1-874-163-4813</td>\n",
       "      <td>AISSATA</td>\n",
       "      <td>Female</td>\n",
       "      <td>$300</td>\n",
       "    </tr>\n",
       "    <tr>\n",
       "      <th>1</th>\n",
       "      <td>(152) 728-6139</td>\n",
       "      <td>GUEYE Oumy</td>\n",
       "      <td>Female</td>\n",
       "      <td>$455</td>\n",
       "    </tr>\n",
       "    <tr>\n",
       "      <th>2</th>\n",
       "      <td>1-172-472-4611</td>\n",
       "      <td>SERE Kader</td>\n",
       "      <td>Male</td>\n",
       "      <td>$656</td>\n",
       "    </tr>\n",
       "    <tr>\n",
       "      <th>3</th>\n",
       "      <td>(545) 855-6787</td>\n",
       "      <td>YANON Olivier</td>\n",
       "      <td>Male</td>\n",
       "      <td>$200</td>\n",
       "    </tr>\n",
       "    <tr>\n",
       "      <th>4</th>\n",
       "      <td>(545) 895-6887</td>\n",
       "      <td>DOSSO Rodrigue</td>\n",
       "      <td>Male</td>\n",
       "      <td>$700</td>\n",
       "    </tr>\n",
       "    <tr>\n",
       "      <th>5</th>\n",
       "      <td>1-874-163-4813</td>\n",
       "      <td>KUASSI Isreal</td>\n",
       "      <td>Male</td>\n",
       "      <td>$861</td>\n",
       "    </tr>\n",
       "  </tbody>\n",
       "</table>\n",
       "</div>"
      ],
      "text/plain": [
       "            Phone            Name    Sexe Salary\n",
       "0  1-874-163-4813         AISSATA  Female   $300\n",
       "1  (152) 728-6139      GUEYE Oumy  Female   $455\n",
       "2  1-172-472-4611      SERE Kader    Male   $656\n",
       "3  (545) 855-6787   YANON Olivier    Male   $200\n",
       "4  (545) 895-6887  DOSSO Rodrigue    Male   $700\n",
       "5  1-874-163-4813   KUASSI Isreal    Male   $861"
      ]
     },
     "execution_count": 22,
     "metadata": {},
     "output_type": "execute_result"
    }
   ],
   "source": [
    "dataframe\n"
   ]
  },
  {
   "cell_type": "code",
   "execution_count": 23,
   "metadata": {},
   "outputs": [],
   "source": [
    "# Ajouter de nouvelles colonnes\n",
    "# Ajoutons les colonnes date et country\n",
    "dataframe['Date'] = '2023-01-03'\n",
    "dataframe['Country'] = 'Senegal'"
   ]
  },
  {
   "cell_type": "code",
   "execution_count": 24,
   "metadata": {},
   "outputs": [
    {
     "data": {
      "text/html": [
       "<div>\n",
       "<style scoped>\n",
       "    .dataframe tbody tr th:only-of-type {\n",
       "        vertical-align: middle;\n",
       "    }\n",
       "\n",
       "    .dataframe tbody tr th {\n",
       "        vertical-align: top;\n",
       "    }\n",
       "\n",
       "    .dataframe thead th {\n",
       "        text-align: right;\n",
       "    }\n",
       "</style>\n",
       "<table border=\"1\" class=\"dataframe\">\n",
       "  <thead>\n",
       "    <tr style=\"text-align: right;\">\n",
       "      <th></th>\n",
       "      <th>Phone</th>\n",
       "      <th>Name</th>\n",
       "      <th>Sexe</th>\n",
       "      <th>Salary</th>\n",
       "      <th>Date</th>\n",
       "      <th>Country</th>\n",
       "    </tr>\n",
       "  </thead>\n",
       "  <tbody>\n",
       "    <tr>\n",
       "      <th>0</th>\n",
       "      <td>1-874-163-4813</td>\n",
       "      <td>AISSATA</td>\n",
       "      <td>Female</td>\n",
       "      <td>$300</td>\n",
       "      <td>2023-01-03</td>\n",
       "      <td>Senegal</td>\n",
       "    </tr>\n",
       "    <tr>\n",
       "      <th>1</th>\n",
       "      <td>(152) 728-6139</td>\n",
       "      <td>GUEYE Oumy</td>\n",
       "      <td>Female</td>\n",
       "      <td>$455</td>\n",
       "      <td>2023-01-03</td>\n",
       "      <td>Senegal</td>\n",
       "    </tr>\n",
       "    <tr>\n",
       "      <th>2</th>\n",
       "      <td>1-172-472-4611</td>\n",
       "      <td>SERE Kader</td>\n",
       "      <td>Male</td>\n",
       "      <td>$656</td>\n",
       "      <td>2023-01-03</td>\n",
       "      <td>Senegal</td>\n",
       "    </tr>\n",
       "  </tbody>\n",
       "</table>\n",
       "</div>"
      ],
      "text/plain": [
       "            Phone        Name    Sexe Salary        Date  Country\n",
       "0  1-874-163-4813     AISSATA  Female   $300  2023-01-03  Senegal\n",
       "1  (152) 728-6139  GUEYE Oumy  Female   $455  2023-01-03  Senegal\n",
       "2  1-172-472-4611  SERE Kader    Male   $656  2023-01-03  Senegal"
      ]
     },
     "execution_count": 24,
     "metadata": {},
     "output_type": "execute_result"
    }
   ],
   "source": [
    "# Ajouter de nouvelles colonnes\n",
    "# Verifier l'ajout des nouvelles colonnes\n",
    "# Utiliser la fonction head() pour visualiser les lignes\n",
    "# On remarque que les nouvelles colonnes sont présentes\n",
    "dataframe.head(n=3)"
   ]
  },
  {
   "cell_type": "code",
   "execution_count": 25,
   "metadata": {},
   "outputs": [
    {
     "data": {
      "text/plain": [
       "pandas.core.series.Series"
      ]
     },
     "execution_count": 25,
     "metadata": {},
     "output_type": "execute_result"
    }
   ],
   "source": [
    "# Afficher le type d'une colonne de données\n",
    "# Utiliser la fonction type sur la colonne\n",
    "# Le type est une Série (pandas.core.series.Series)\n",
    "# Ainsi on peut conclure qu'une dataframe est une concaténation de séries\n",
    "type(dataframe['Name'])\n"
   ]
  },
  {
   "cell_type": "code",
   "execution_count": 26,
   "metadata": {},
   "outputs": [],
   "source": [
    "# Création d'une série\n",
    "# Pour faire la création d'une série il faut utiliser la classe Series\n",
    "lastname = ['DOE', 'DOE', 'DOE', 'DOE', 'DOE', 'DOE']\n",
    "firstname = ['John', 'John', 'John', 'John', 'John', 'John']\n",
    "\n",
    "dataframe['FirstName'] = pandas.Series(data=firstname)\n",
    "dataframe['LastName'] = pandas.Series(data=lastname)\n"
   ]
  },
  {
   "cell_type": "code",
   "execution_count": 27,
   "metadata": {},
   "outputs": [],
   "source": [
    "# Modifier les colonnes FirstName et LastName\n",
    "# En partant de la colonne Name appliquer un split\n",
    "\n",
    "def get_last_name(column_data):\n",
    "    splitter = column_data.split(' ')\n",
    "    if len(splitter) <= 1:\n",
    "        return column_data.upper()\n",
    "    return splitter[0].upper()\n",
    "\n",
    "\n",
    "def get_first_name(column_data):\n",
    "    splitter = column_data.split(' ')\n",
    "    if len(splitter) <= 1:\n",
    "        return column_data.title()\n",
    "    return splitter[1].title()\n",
    "\n",
    "\n",
    "dataframe['LastName'] = dataframe['Name'].apply(get_last_name)\n",
    "dataframe['FirstName'] = dataframe['Name'].apply(get_first_name)\n"
   ]
  },
  {
   "cell_type": "code",
   "execution_count": 28,
   "metadata": {},
   "outputs": [
    {
     "data": {
      "text/plain": [
       "0    AISSATA\n",
       "1      GUEYE\n",
       "2       SERE\n",
       "3      YANON\n",
       "4      DOSSO\n",
       "5     KUASSI\n",
       "Name: LastName, dtype: object"
      ]
     },
     "execution_count": 28,
     "metadata": {},
     "output_type": "execute_result"
    }
   ],
   "source": [
    "# Afficher la colonne LastName\n",
    "dataframe['LastName']\n"
   ]
  },
  {
   "cell_type": "code",
   "execution_count": 29,
   "metadata": {},
   "outputs": [
    {
     "data": {
      "text/plain": [
       "0     Aissata\n",
       "1        Oumy\n",
       "2       Kader\n",
       "3     Olivier\n",
       "4    Rodrigue\n",
       "5      Isreal\n",
       "Name: FirstName, dtype: object"
      ]
     },
     "execution_count": 29,
     "metadata": {},
     "output_type": "execute_result"
    }
   ],
   "source": [
    "# Afficher la colonne FirstName\n",
    "dataframe['FirstName']\n"
   ]
  },
  {
   "cell_type": "code",
   "execution_count": 30,
   "metadata": {},
   "outputs": [
    {
     "data": {
      "text/plain": [
       "0     AISSATA\n",
       "1        OUMY\n",
       "2       KADER\n",
       "3     OLIVIER\n",
       "4    RODRIGUE\n",
       "5      ISREAL\n",
       "Name: FirstName, dtype: object"
      ]
     },
     "execution_count": 30,
     "metadata": {},
     "output_type": "execute_result"
    }
   ],
   "source": [
    "# Faire des opérations directe sur une colonne\n",
    "# Manipulons la colonne FirstName\n",
    "# On peut accéder à une colonne par la notaion ( . )\n",
    "# Ainsi on peut appliquer les fonctions native au type des valeurs contenues dans une colonne\n",
    "dataframe.FirstName.str.upper()"
   ]
  },
  {
   "cell_type": "code",
   "execution_count": 31,
   "metadata": {},
   "outputs": [
    {
     "data": {
      "text/plain": [
       "pandas.core.series.Series"
      ]
     },
     "execution_count": 31,
     "metadata": {},
     "output_type": "execute_result"
    }
   ],
   "source": [
    "# A chaque manipulation direct sur une Série elle retourne une Série\n",
    "# Ainsi pour faire des multiples manipulations il faut convertir avant d'appliquer la methode\n",
    "# Exemple: dataframe.FirstName.str.lower().str.upper()\n",
    "type(dataframe.FirstName.str.lower())\n"
   ]
  },
  {
   "cell_type": "code",
   "execution_count": 32,
   "metadata": {},
   "outputs": [
    {
     "data": {
      "text/plain": [
       "RangeIndex(start=0, stop=6, step=1)"
      ]
     },
     "execution_count": 32,
     "metadata": {},
     "output_type": "execute_result"
    }
   ],
   "source": [
    "# Manipulation de la méthode loc\n",
    "# Afficher les indexes de la dataframe\n",
    "dataframe.index"
   ]
  },
  {
   "cell_type": "code",
   "execution_count": 33,
   "metadata": {},
   "outputs": [
    {
     "data": {
      "text/html": [
       "<div>\n",
       "<style scoped>\n",
       "    .dataframe tbody tr th:only-of-type {\n",
       "        vertical-align: middle;\n",
       "    }\n",
       "\n",
       "    .dataframe tbody tr th {\n",
       "        vertical-align: top;\n",
       "    }\n",
       "\n",
       "    .dataframe thead th {\n",
       "        text-align: right;\n",
       "    }\n",
       "</style>\n",
       "<table border=\"1\" class=\"dataframe\">\n",
       "  <thead>\n",
       "    <tr style=\"text-align: right;\">\n",
       "      <th></th>\n",
       "      <th>Phone</th>\n",
       "      <th>Name</th>\n",
       "      <th>Sexe</th>\n",
       "      <th>Salary</th>\n",
       "      <th>Date</th>\n",
       "      <th>Country</th>\n",
       "      <th>LastName</th>\n",
       "    </tr>\n",
       "    <tr>\n",
       "      <th>FirstName</th>\n",
       "      <th></th>\n",
       "      <th></th>\n",
       "      <th></th>\n",
       "      <th></th>\n",
       "      <th></th>\n",
       "      <th></th>\n",
       "      <th></th>\n",
       "    </tr>\n",
       "  </thead>\n",
       "  <tbody>\n",
       "    <tr>\n",
       "      <th>Aissata</th>\n",
       "      <td>1-874-163-4813</td>\n",
       "      <td>AISSATA</td>\n",
       "      <td>Female</td>\n",
       "      <td>$300</td>\n",
       "      <td>2023-01-03</td>\n",
       "      <td>Senegal</td>\n",
       "      <td>AISSATA</td>\n",
       "    </tr>\n",
       "    <tr>\n",
       "      <th>Oumy</th>\n",
       "      <td>(152) 728-6139</td>\n",
       "      <td>GUEYE Oumy</td>\n",
       "      <td>Female</td>\n",
       "      <td>$455</td>\n",
       "      <td>2023-01-03</td>\n",
       "      <td>Senegal</td>\n",
       "      <td>GUEYE</td>\n",
       "    </tr>\n",
       "    <tr>\n",
       "      <th>Kader</th>\n",
       "      <td>1-172-472-4611</td>\n",
       "      <td>SERE Kader</td>\n",
       "      <td>Male</td>\n",
       "      <td>$656</td>\n",
       "      <td>2023-01-03</td>\n",
       "      <td>Senegal</td>\n",
       "      <td>SERE</td>\n",
       "    </tr>\n",
       "    <tr>\n",
       "      <th>Olivier</th>\n",
       "      <td>(545) 855-6787</td>\n",
       "      <td>YANON Olivier</td>\n",
       "      <td>Male</td>\n",
       "      <td>$200</td>\n",
       "      <td>2023-01-03</td>\n",
       "      <td>Senegal</td>\n",
       "      <td>YANON</td>\n",
       "    </tr>\n",
       "    <tr>\n",
       "      <th>Rodrigue</th>\n",
       "      <td>(545) 895-6887</td>\n",
       "      <td>DOSSO Rodrigue</td>\n",
       "      <td>Male</td>\n",
       "      <td>$700</td>\n",
       "      <td>2023-01-03</td>\n",
       "      <td>Senegal</td>\n",
       "      <td>DOSSO</td>\n",
       "    </tr>\n",
       "    <tr>\n",
       "      <th>Isreal</th>\n",
       "      <td>1-874-163-4813</td>\n",
       "      <td>KUASSI Isreal</td>\n",
       "      <td>Male</td>\n",
       "      <td>$861</td>\n",
       "      <td>2023-01-03</td>\n",
       "      <td>Senegal</td>\n",
       "      <td>KUASSI</td>\n",
       "    </tr>\n",
       "  </tbody>\n",
       "</table>\n",
       "</div>"
      ],
      "text/plain": [
       "                    Phone            Name    Sexe Salary        Date  Country  \\\n",
       "FirstName                                                                       \n",
       "Aissata    1-874-163-4813         AISSATA  Female   $300  2023-01-03  Senegal   \n",
       "Oumy       (152) 728-6139      GUEYE Oumy  Female   $455  2023-01-03  Senegal   \n",
       "Kader      1-172-472-4611      SERE Kader    Male   $656  2023-01-03  Senegal   \n",
       "Olivier    (545) 855-6787   YANON Olivier    Male   $200  2023-01-03  Senegal   \n",
       "Rodrigue   (545) 895-6887  DOSSO Rodrigue    Male   $700  2023-01-03  Senegal   \n",
       "Isreal     1-874-163-4813   KUASSI Isreal    Male   $861  2023-01-03  Senegal   \n",
       "\n",
       "          LastName  \n",
       "FirstName           \n",
       "Aissata    AISSATA  \n",
       "Oumy         GUEYE  \n",
       "Kader         SERE  \n",
       "Olivier      YANON  \n",
       "Rodrigue     DOSSO  \n",
       "Isreal      KUASSI  "
      ]
     },
     "execution_count": 33,
     "metadata": {},
     "output_type": "execute_result"
    }
   ],
   "source": [
    "# On peut changer l'index de la dataframe\n",
    "# Utilisation de la fonction set_index\n",
    "# Vous pouvez utiliser une liste d'indexes\n",
    "dataframe.set_index('FirstName')"
   ]
  },
  {
   "cell_type": "code",
   "execution_count": 34,
   "metadata": {},
   "outputs": [
    {
     "data": {
      "text/html": [
       "<div>\n",
       "<style scoped>\n",
       "    .dataframe tbody tr th:only-of-type {\n",
       "        vertical-align: middle;\n",
       "    }\n",
       "\n",
       "    .dataframe tbody tr th {\n",
       "        vertical-align: top;\n",
       "    }\n",
       "\n",
       "    .dataframe thead th {\n",
       "        text-align: right;\n",
       "    }\n",
       "</style>\n",
       "<table border=\"1\" class=\"dataframe\">\n",
       "  <thead>\n",
       "    <tr style=\"text-align: right;\">\n",
       "      <th></th>\n",
       "      <th></th>\n",
       "      <th>Phone</th>\n",
       "      <th>Name</th>\n",
       "      <th>Sexe</th>\n",
       "      <th>Salary</th>\n",
       "      <th>Date</th>\n",
       "      <th>Country</th>\n",
       "    </tr>\n",
       "    <tr>\n",
       "      <th>FirstName</th>\n",
       "      <th>LastName</th>\n",
       "      <th></th>\n",
       "      <th></th>\n",
       "      <th></th>\n",
       "      <th></th>\n",
       "      <th></th>\n",
       "      <th></th>\n",
       "    </tr>\n",
       "  </thead>\n",
       "  <tbody>\n",
       "    <tr>\n",
       "      <th>Aissata</th>\n",
       "      <th>AISSATA</th>\n",
       "      <td>1-874-163-4813</td>\n",
       "      <td>AISSATA</td>\n",
       "      <td>Female</td>\n",
       "      <td>$300</td>\n",
       "      <td>2023-01-03</td>\n",
       "      <td>Senegal</td>\n",
       "    </tr>\n",
       "    <tr>\n",
       "      <th>Oumy</th>\n",
       "      <th>GUEYE</th>\n",
       "      <td>(152) 728-6139</td>\n",
       "      <td>GUEYE Oumy</td>\n",
       "      <td>Female</td>\n",
       "      <td>$455</td>\n",
       "      <td>2023-01-03</td>\n",
       "      <td>Senegal</td>\n",
       "    </tr>\n",
       "    <tr>\n",
       "      <th>Kader</th>\n",
       "      <th>SERE</th>\n",
       "      <td>1-172-472-4611</td>\n",
       "      <td>SERE Kader</td>\n",
       "      <td>Male</td>\n",
       "      <td>$656</td>\n",
       "      <td>2023-01-03</td>\n",
       "      <td>Senegal</td>\n",
       "    </tr>\n",
       "    <tr>\n",
       "      <th>Olivier</th>\n",
       "      <th>YANON</th>\n",
       "      <td>(545) 855-6787</td>\n",
       "      <td>YANON Olivier</td>\n",
       "      <td>Male</td>\n",
       "      <td>$200</td>\n",
       "      <td>2023-01-03</td>\n",
       "      <td>Senegal</td>\n",
       "    </tr>\n",
       "    <tr>\n",
       "      <th>Rodrigue</th>\n",
       "      <th>DOSSO</th>\n",
       "      <td>(545) 895-6887</td>\n",
       "      <td>DOSSO Rodrigue</td>\n",
       "      <td>Male</td>\n",
       "      <td>$700</td>\n",
       "      <td>2023-01-03</td>\n",
       "      <td>Senegal</td>\n",
       "    </tr>\n",
       "    <tr>\n",
       "      <th>Isreal</th>\n",
       "      <th>KUASSI</th>\n",
       "      <td>1-874-163-4813</td>\n",
       "      <td>KUASSI Isreal</td>\n",
       "      <td>Male</td>\n",
       "      <td>$861</td>\n",
       "      <td>2023-01-03</td>\n",
       "      <td>Senegal</td>\n",
       "    </tr>\n",
       "  </tbody>\n",
       "</table>\n",
       "</div>"
      ],
      "text/plain": [
       "                             Phone            Name    Sexe Salary        Date  \\\n",
       "FirstName LastName                                                              \n",
       "Aissata   AISSATA   1-874-163-4813         AISSATA  Female   $300  2023-01-03   \n",
       "Oumy      GUEYE     (152) 728-6139      GUEYE Oumy  Female   $455  2023-01-03   \n",
       "Kader     SERE      1-172-472-4611      SERE Kader    Male   $656  2023-01-03   \n",
       "Olivier   YANON     (545) 855-6787   YANON Olivier    Male   $200  2023-01-03   \n",
       "Rodrigue  DOSSO     (545) 895-6887  DOSSO Rodrigue    Male   $700  2023-01-03   \n",
       "Isreal    KUASSI    1-874-163-4813   KUASSI Isreal    Male   $861  2023-01-03   \n",
       "\n",
       "                    Country  \n",
       "FirstName LastName           \n",
       "Aissata   AISSATA   Senegal  \n",
       "Oumy      GUEYE     Senegal  \n",
       "Kader     SERE      Senegal  \n",
       "Olivier   YANON     Senegal  \n",
       "Rodrigue  DOSSO     Senegal  \n",
       "Isreal    KUASSI    Senegal  "
      ]
     },
     "execution_count": 34,
     "metadata": {},
     "output_type": "execute_result"
    }
   ],
   "source": [
    "# On peut changer l'index de la dataframe\n",
    "# Utilisation de la fonction set_index\n",
    "# Vous pouvez utiliser une liste d'indexes\n",
    "dataframe.set_index(['FirstName', 'LastName'])\n"
   ]
  },
  {
   "cell_type": "code",
   "execution_count": 35,
   "metadata": {},
   "outputs": [],
   "source": [
    "# On peut changer l'index de la dataframe\n",
    "# Après avoir changer les indexes vous pouvez utiliser la fonction loc\n",
    "dataframe = dataframe.set_index(['FirstName'])\n"
   ]
  },
  {
   "cell_type": "code",
   "execution_count": 36,
   "metadata": {},
   "outputs": [
    {
     "data": {
      "text/plain": [
       "Phone       1-874-163-4813\n",
       "Name               AISSATA\n",
       "Sexe                Female\n",
       "Salary                $300\n",
       "Date            2023-01-03\n",
       "Country            Senegal\n",
       "LastName           AISSATA\n",
       "Name: Aissata, dtype: object"
      ]
     },
     "execution_count": 36,
     "metadata": {},
     "output_type": "execute_result"
    }
   ],
   "source": [
    "# Ainsi avec la data loc vous pouvez afficher la ligne\n",
    "# Car la data loc peut utiliser l'approche des index de list\n",
    "dataframe.loc['Aissata']\n"
   ]
  },
  {
   "cell_type": "code",
   "execution_count": 37,
   "metadata": {},
   "outputs": [
    {
     "data": {
      "text/plain": [
       "Phone       (545) 895-6887\n",
       "Name        DOSSO Rodrigue\n",
       "Sexe                  Male\n",
       "Salary                $700\n",
       "Date            2023-01-03\n",
       "Country            Senegal\n",
       "LastName             DOSSO\n",
       "Name: Rodrigue, dtype: object"
      ]
     },
     "execution_count": 37,
     "metadata": {},
     "output_type": "execute_result"
    }
   ],
   "source": [
    "# Ainsi avec la data loc vous pouvez afficher la ligne\n",
    "# Car la data loc peut utiliser l'approche des index de list\n",
    "dataframe.loc['Rodrigue']\n"
   ]
  },
  {
   "cell_type": "code",
   "execution_count": 38,
   "metadata": {},
   "outputs": [
    {
     "data": {
      "text/html": [
       "<div>\n",
       "<style scoped>\n",
       "    .dataframe tbody tr th:only-of-type {\n",
       "        vertical-align: middle;\n",
       "    }\n",
       "\n",
       "    .dataframe tbody tr th {\n",
       "        vertical-align: top;\n",
       "    }\n",
       "\n",
       "    .dataframe thead th {\n",
       "        text-align: right;\n",
       "    }\n",
       "</style>\n",
       "<table border=\"1\" class=\"dataframe\">\n",
       "  <thead>\n",
       "    <tr style=\"text-align: right;\">\n",
       "      <th></th>\n",
       "      <th>Phone</th>\n",
       "      <th>Name</th>\n",
       "      <th>Sexe</th>\n",
       "      <th>Salary</th>\n",
       "      <th>Date</th>\n",
       "      <th>Country</th>\n",
       "      <th>LastName</th>\n",
       "    </tr>\n",
       "    <tr>\n",
       "      <th>FirstName</th>\n",
       "      <th></th>\n",
       "      <th></th>\n",
       "      <th></th>\n",
       "      <th></th>\n",
       "      <th></th>\n",
       "      <th></th>\n",
       "      <th></th>\n",
       "    </tr>\n",
       "  </thead>\n",
       "  <tbody>\n",
       "    <tr>\n",
       "      <th>Aissata</th>\n",
       "      <td>1-874-163-4813</td>\n",
       "      <td>AISSATA</td>\n",
       "      <td>Female</td>\n",
       "      <td>$300</td>\n",
       "      <td>2023-01-03</td>\n",
       "      <td>Senegal</td>\n",
       "      <td>AISSATA</td>\n",
       "    </tr>\n",
       "    <tr>\n",
       "      <th>Rodrigue</th>\n",
       "      <td>(545) 895-6887</td>\n",
       "      <td>DOSSO Rodrigue</td>\n",
       "      <td>Male</td>\n",
       "      <td>$700</td>\n",
       "      <td>2023-01-03</td>\n",
       "      <td>Senegal</td>\n",
       "      <td>DOSSO</td>\n",
       "    </tr>\n",
       "    <tr>\n",
       "      <th>Oumy</th>\n",
       "      <td>(152) 728-6139</td>\n",
       "      <td>GUEYE Oumy</td>\n",
       "      <td>Female</td>\n",
       "      <td>$455</td>\n",
       "      <td>2023-01-03</td>\n",
       "      <td>Senegal</td>\n",
       "      <td>GUEYE</td>\n",
       "    </tr>\n",
       "    <tr>\n",
       "      <th>Isreal</th>\n",
       "      <td>1-874-163-4813</td>\n",
       "      <td>KUASSI Isreal</td>\n",
       "      <td>Male</td>\n",
       "      <td>$861</td>\n",
       "      <td>2023-01-03</td>\n",
       "      <td>Senegal</td>\n",
       "      <td>KUASSI</td>\n",
       "    </tr>\n",
       "    <tr>\n",
       "      <th>Kader</th>\n",
       "      <td>1-172-472-4611</td>\n",
       "      <td>SERE Kader</td>\n",
       "      <td>Male</td>\n",
       "      <td>$656</td>\n",
       "      <td>2023-01-03</td>\n",
       "      <td>Senegal</td>\n",
       "      <td>SERE</td>\n",
       "    </tr>\n",
       "    <tr>\n",
       "      <th>Olivier</th>\n",
       "      <td>(545) 855-6787</td>\n",
       "      <td>YANON Olivier</td>\n",
       "      <td>Male</td>\n",
       "      <td>$200</td>\n",
       "      <td>2023-01-03</td>\n",
       "      <td>Senegal</td>\n",
       "      <td>YANON</td>\n",
       "    </tr>\n",
       "  </tbody>\n",
       "</table>\n",
       "</div>"
      ],
      "text/plain": [
       "                    Phone            Name    Sexe Salary        Date  Country  \\\n",
       "FirstName                                                                       \n",
       "Aissata    1-874-163-4813         AISSATA  Female   $300  2023-01-03  Senegal   \n",
       "Rodrigue   (545) 895-6887  DOSSO Rodrigue    Male   $700  2023-01-03  Senegal   \n",
       "Oumy       (152) 728-6139      GUEYE Oumy  Female   $455  2023-01-03  Senegal   \n",
       "Isreal     1-874-163-4813   KUASSI Isreal    Male   $861  2023-01-03  Senegal   \n",
       "Kader      1-172-472-4611      SERE Kader    Male   $656  2023-01-03  Senegal   \n",
       "Olivier    (545) 855-6787   YANON Olivier    Male   $200  2023-01-03  Senegal   \n",
       "\n",
       "          LastName  \n",
       "FirstName           \n",
       "Aissata    AISSATA  \n",
       "Rodrigue     DOSSO  \n",
       "Oumy         GUEYE  \n",
       "Isreal      KUASSI  \n",
       "Kader         SERE  \n",
       "Olivier      YANON  "
      ]
     },
     "execution_count": 38,
     "metadata": {},
     "output_type": "execute_result"
    }
   ],
   "source": [
    "# Ordonner la dataframe en fonction d'une colonne\n",
    "dataframe.sort_values(by='Name', ascending=True)\n"
   ]
  },
  {
   "cell_type": "code",
   "execution_count": 39,
   "metadata": {},
   "outputs": [],
   "source": [
    "# Lecture a partir d'un fichier csv\n",
    "\n",
    "import pathlib\n",
    "\n",
    "file = pathlib.Path().parent / 'Day9/databases/data.csv'\n",
    "\n",
    "dataframe = pandas.read_csv(file)"
   ]
  },
  {
   "cell_type": "code",
   "execution_count": 40,
   "metadata": {},
   "outputs": [
    {
     "data": {
      "text/html": [
       "<div>\n",
       "<style scoped>\n",
       "    .dataframe tbody tr th:only-of-type {\n",
       "        vertical-align: middle;\n",
       "    }\n",
       "\n",
       "    .dataframe tbody tr th {\n",
       "        vertical-align: top;\n",
       "    }\n",
       "\n",
       "    .dataframe thead th {\n",
       "        text-align: right;\n",
       "    }\n",
       "</style>\n",
       "<table border=\"1\" class=\"dataframe\">\n",
       "  <thead>\n",
       "    <tr style=\"text-align: right;\">\n",
       "      <th></th>\n",
       "      <th>email</th>\n",
       "      <th>phone</th>\n",
       "      <th>address</th>\n",
       "      <th>region</th>\n",
       "      <th>country</th>\n",
       "      <th>currency</th>\n",
       "      <th>numberrange</th>\n",
       "      <th>list</th>\n",
       "    </tr>\n",
       "  </thead>\n",
       "  <tbody>\n",
       "    <tr>\n",
       "      <th>0</th>\n",
       "      <td>bibendum.ullamcorper@hotmail.net</td>\n",
       "      <td>(266) 451-9848</td>\n",
       "      <td>Ap #719-368 Est. Rd.</td>\n",
       "      <td>Rogaland</td>\n",
       "      <td>India</td>\n",
       "      <td>$41.44</td>\n",
       "      <td>3</td>\n",
       "      <td>Legal Department</td>\n",
       "    </tr>\n",
       "    <tr>\n",
       "      <th>1</th>\n",
       "      <td>id.magna@hotmail.couk</td>\n",
       "      <td>1-453-354-4147</td>\n",
       "      <td>110-1776 Hymenaeos. Rd.</td>\n",
       "      <td>Gauteng</td>\n",
       "      <td>New Zealand</td>\n",
       "      <td>$9.36</td>\n",
       "      <td>10</td>\n",
       "      <td>Finances</td>\n",
       "    </tr>\n",
       "    <tr>\n",
       "      <th>2</th>\n",
       "      <td>eu.eros@google.org</td>\n",
       "      <td>(435) 359-3336</td>\n",
       "      <td>475-6928 Amet, Road</td>\n",
       "      <td>Styria</td>\n",
       "      <td>Turkey</td>\n",
       "      <td>$33.42</td>\n",
       "      <td>2</td>\n",
       "      <td>Media Relations</td>\n",
       "    </tr>\n",
       "    <tr>\n",
       "      <th>3</th>\n",
       "      <td>habitant@icloud.net</td>\n",
       "      <td>(236) 113-4482</td>\n",
       "      <td>145-3762 Duis Avenue</td>\n",
       "      <td>Santa Catarina</td>\n",
       "      <td>Brazil</td>\n",
       "      <td>$19.79</td>\n",
       "      <td>4</td>\n",
       "      <td>Media Relations</td>\n",
       "    </tr>\n",
       "    <tr>\n",
       "      <th>4</th>\n",
       "      <td>nunc.mauris@hotmail.com</td>\n",
       "      <td>1-690-265-8232</td>\n",
       "      <td>P.O. Box 374, 4872 Non Rd.</td>\n",
       "      <td>Loreto</td>\n",
       "      <td>Indonesia</td>\n",
       "      <td>$4.61</td>\n",
       "      <td>3</td>\n",
       "      <td>Public Relations</td>\n",
       "    </tr>\n",
       "  </tbody>\n",
       "</table>\n",
       "</div>"
      ],
      "text/plain": [
       "                              email           phone  \\\n",
       "0  bibendum.ullamcorper@hotmail.net  (266) 451-9848   \n",
       "1             id.magna@hotmail.couk  1-453-354-4147   \n",
       "2                eu.eros@google.org  (435) 359-3336   \n",
       "3               habitant@icloud.net  (236) 113-4482   \n",
       "4           nunc.mauris@hotmail.com  1-690-265-8232   \n",
       "\n",
       "                      address          region      country currency  \\\n",
       "0        Ap #719-368 Est. Rd.        Rogaland        India   $41.44   \n",
       "1     110-1776 Hymenaeos. Rd.         Gauteng  New Zealand    $9.36   \n",
       "2         475-6928 Amet, Road          Styria       Turkey   $33.42   \n",
       "3        145-3762 Duis Avenue  Santa Catarina       Brazil   $19.79   \n",
       "4  P.O. Box 374, 4872 Non Rd.          Loreto    Indonesia    $4.61   \n",
       "\n",
       "   numberrange              list  \n",
       "0            3  Legal Department  \n",
       "1           10          Finances  \n",
       "2            2   Media Relations  \n",
       "3            4   Media Relations  \n",
       "4            3  Public Relations  "
      ]
     },
     "execution_count": 40,
     "metadata": {},
     "output_type": "execute_result"
    }
   ],
   "source": [
    "dataframe.head()"
   ]
  },
  {
   "cell_type": "code",
   "execution_count": null,
   "metadata": {},
   "outputs": [],
   "source": []
  }
 ],
 "metadata": {
  "kernelspec": {
   "display_name": "env",
   "language": "python",
   "name": "python3"
  },
  "language_info": {
   "codemirror_mode": {
    "name": "ipython",
    "version": 3
   },
   "file_extension": ".py",
   "mimetype": "text/x-python",
   "name": "python",
   "nbconvert_exporter": "python",
   "pygments_lexer": "ipython3",
   "version": "3.9.13"
  },
  "orig_nbformat": 4,
  "vscode": {
   "interpreter": {
    "hash": "dbc9c32b3fdb3169a4eae6df303279ab05724f8f2b116c7c5373b9b3c05a05a5"
   }
  }
 },
 "nbformat": 4,
 "nbformat_minor": 2
}

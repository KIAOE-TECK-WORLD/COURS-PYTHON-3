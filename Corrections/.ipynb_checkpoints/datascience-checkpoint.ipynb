{
 "cells": [
  {
   "cell_type": "code",
   "execution_count": 66,
   "metadata": {},
   "outputs": [],
   "source": [
    "import pandas\n",
    "\n",
    "# https://pandas.pydata.org/docs/getting_started/intro_tutorials/01_table_oriented.html\n",
    "\n",
    "# from pandas import DataFrame\n",
    "# from pandas import *\n",
    "# from math import abs, log10, log"
   ]
  },
  {
   "cell_type": "code",
   "execution_count": 67,
   "metadata": {},
   "outputs": [],
   "source": [
    "# pandas.read_csv(pathname)\n",
    "# pandas.read_excel(pathname)\n",
    "dataframe = pandas.read_csv('/Users/israel/COURS-PYTHON-3/Day9/databases/data-2.csv')"
   ]
  },
  {
   "cell_type": "code",
   "execution_count": 68,
   "metadata": {},
   "outputs": [],
   "source": [
    "import pandas as pd"
   ]
  },
  {
   "cell_type": "code",
   "execution_count": 69,
   "metadata": {},
   "outputs": [],
   "source": [
    "# pandas.read_csv(pathname)\n",
    "# pandas.read_excel(pathname)\n",
    "dataframe = pd.read_csv('/Users/israel/COURS-PYTHON-3/Day9/databases/data-2.csv')\n"
   ]
  },
  {
   "cell_type": "code",
   "execution_count": 70,
   "metadata": {},
   "outputs": [
    {
     "data": {
      "text/plain": [
       "pandas.core.frame.DataFrame"
      ]
     },
     "execution_count": 70,
     "metadata": {},
     "output_type": "execute_result"
    }
   ],
   "source": [
    "# Afficher le type d'une variable\n",
    "type(dataframe)"
   ]
  },
  {
   "cell_type": "code",
   "execution_count": 71,
   "metadata": {},
   "outputs": [
    {
     "data": {
      "text/html": [
       "<div>\n",
       "<style scoped>\n",
       "    .dataframe tbody tr th:only-of-type {\n",
       "        vertical-align: middle;\n",
       "    }\n",
       "\n",
       "    .dataframe tbody tr th {\n",
       "        vertical-align: top;\n",
       "    }\n",
       "\n",
       "    .dataframe thead th {\n",
       "        text-align: right;\n",
       "    }\n",
       "</style>\n",
       "<table border=\"1\" class=\"dataframe\">\n",
       "  <thead>\n",
       "    <tr style=\"text-align: right;\">\n",
       "      <th></th>\n",
       "      <th>name</th>\n",
       "      <th>email</th>\n",
       "      <th>address</th>\n",
       "      <th>country</th>\n",
       "      <th>region</th>\n",
       "      <th>currency</th>\n",
       "    </tr>\n",
       "  </thead>\n",
       "  <tbody>\n",
       "    <tr>\n",
       "      <th>0</th>\n",
       "      <td>Chadwick Nguyen</td>\n",
       "      <td>nec.ligula@protonmail.edu</td>\n",
       "      <td>Ap #466-2636 A Rd.</td>\n",
       "      <td>Germany</td>\n",
       "      <td>Texas</td>\n",
       "      <td>$44.16</td>\n",
       "    </tr>\n",
       "    <tr>\n",
       "      <th>1</th>\n",
       "      <td>India Newman</td>\n",
       "      <td>vel.venenatis@icloud.couk</td>\n",
       "      <td>2125 Sed Street</td>\n",
       "      <td>China</td>\n",
       "      <td>Henegouwen</td>\n",
       "      <td>$92.54</td>\n",
       "    </tr>\n",
       "    <tr>\n",
       "      <th>2</th>\n",
       "      <td>Deborah Chase</td>\n",
       "      <td>lectus.ante@protonmail.org</td>\n",
       "      <td>Ap #601-6030 Eu Av.</td>\n",
       "      <td>New Zealand</td>\n",
       "      <td>łódzkie</td>\n",
       "      <td>$1.88</td>\n",
       "    </tr>\n",
       "    <tr>\n",
       "      <th>3</th>\n",
       "      <td>Donna Salazar</td>\n",
       "      <td>mauris@google.org</td>\n",
       "      <td>781-6803 Curabitur St.</td>\n",
       "      <td>Indonesia</td>\n",
       "      <td>Madrid</td>\n",
       "      <td>$2.68</td>\n",
       "    </tr>\n",
       "    <tr>\n",
       "      <th>4</th>\n",
       "      <td>Heidi Bennett</td>\n",
       "      <td>ultrices.a.auctor@hotmail.net</td>\n",
       "      <td>326-6406 Natoque Ave</td>\n",
       "      <td>Norway</td>\n",
       "      <td>South Gyeongsang</td>\n",
       "      <td>$32.80</td>\n",
       "    </tr>\n",
       "  </tbody>\n",
       "</table>\n",
       "</div>"
      ],
      "text/plain": [
       "              name                          email                 address  \\\n",
       "0  Chadwick Nguyen      nec.ligula@protonmail.edu      Ap #466-2636 A Rd.   \n",
       "1     India Newman      vel.venenatis@icloud.couk         2125 Sed Street   \n",
       "2    Deborah Chase     lectus.ante@protonmail.org     Ap #601-6030 Eu Av.   \n",
       "3    Donna Salazar              mauris@google.org  781-6803 Curabitur St.   \n",
       "4    Heidi Bennett  ultrices.a.auctor@hotmail.net    326-6406 Natoque Ave   \n",
       "\n",
       "       country            region currency  \n",
       "0      Germany             Texas   $44.16  \n",
       "1        China        Henegouwen   $92.54  \n",
       "2  New Zealand           łódzkie    $1.88  \n",
       "3    Indonesia            Madrid    $2.68  \n",
       "4       Norway  South Gyeongsang   $32.80  "
      ]
     },
     "execution_count": 71,
     "metadata": {},
     "output_type": "execute_result"
    }
   ],
   "source": [
    "# DataFrame combinaison ( line + columns )\n",
    "# pandas, numpy, matplotlib, skitlearn\n",
    "# Afiicher les cinqs premières lignes\n",
    "dataframe.head()"
   ]
  },
  {
   "cell_type": "code",
   "execution_count": 72,
   "metadata": {},
   "outputs": [
    {
     "data": {
      "text/html": [
       "<div>\n",
       "<style scoped>\n",
       "    .dataframe tbody tr th:only-of-type {\n",
       "        vertical-align: middle;\n",
       "    }\n",
       "\n",
       "    .dataframe tbody tr th {\n",
       "        vertical-align: top;\n",
       "    }\n",
       "\n",
       "    .dataframe thead th {\n",
       "        text-align: right;\n",
       "    }\n",
       "</style>\n",
       "<table border=\"1\" class=\"dataframe\">\n",
       "  <thead>\n",
       "    <tr style=\"text-align: right;\">\n",
       "      <th></th>\n",
       "      <th>name</th>\n",
       "      <th>email</th>\n",
       "      <th>address</th>\n",
       "      <th>country</th>\n",
       "      <th>region</th>\n",
       "      <th>currency</th>\n",
       "    </tr>\n",
       "  </thead>\n",
       "  <tbody>\n",
       "    <tr>\n",
       "      <th>25</th>\n",
       "      <td>Jeanette Duran</td>\n",
       "      <td>orci.sem@icloud.com</td>\n",
       "      <td>9805 Mollis St.</td>\n",
       "      <td>Australia</td>\n",
       "      <td>Magdalena</td>\n",
       "      <td>$75.51</td>\n",
       "    </tr>\n",
       "    <tr>\n",
       "      <th>26</th>\n",
       "      <td>Tobias Key</td>\n",
       "      <td>in.faucibus.orci@icloud.couk</td>\n",
       "      <td>P.O. Box 256, 8876 Sed Ave</td>\n",
       "      <td>Sweden</td>\n",
       "      <td>New South Wales</td>\n",
       "      <td>$0.48</td>\n",
       "    </tr>\n",
       "    <tr>\n",
       "      <th>27</th>\n",
       "      <td>George Avila</td>\n",
       "      <td>et.rutrum@protonmail.couk</td>\n",
       "      <td>Ap #284-5000 Orci. Ave</td>\n",
       "      <td>South Korea</td>\n",
       "      <td>Kherson oblast</td>\n",
       "      <td>$25.91</td>\n",
       "    </tr>\n",
       "    <tr>\n",
       "      <th>28</th>\n",
       "      <td>Alvin Vaughan</td>\n",
       "      <td>class.aptent.taciti@yahoo.org</td>\n",
       "      <td>384-5221 Quisque Street</td>\n",
       "      <td>Poland</td>\n",
       "      <td>Aisén</td>\n",
       "      <td>$5.55</td>\n",
       "    </tr>\n",
       "    <tr>\n",
       "      <th>29</th>\n",
       "      <td>Justin Bright</td>\n",
       "      <td>pede.nec@yahoo.ca</td>\n",
       "      <td>334-4843 Magna. Road</td>\n",
       "      <td>Mexico</td>\n",
       "      <td>Sucre</td>\n",
       "      <td>$17.03</td>\n",
       "    </tr>\n",
       "  </tbody>\n",
       "</table>\n",
       "</div>"
      ],
      "text/plain": [
       "              name                          email                     address  \\\n",
       "25  Jeanette Duran            orci.sem@icloud.com             9805 Mollis St.   \n",
       "26      Tobias Key   in.faucibus.orci@icloud.couk  P.O. Box 256, 8876 Sed Ave   \n",
       "27    George Avila      et.rutrum@protonmail.couk      Ap #284-5000 Orci. Ave   \n",
       "28   Alvin Vaughan  class.aptent.taciti@yahoo.org     384-5221 Quisque Street   \n",
       "29   Justin Bright              pede.nec@yahoo.ca        334-4843 Magna. Road   \n",
       "\n",
       "        country           region currency  \n",
       "25    Australia        Magdalena   $75.51  \n",
       "26       Sweden  New South Wales    $0.48  \n",
       "27  South Korea   Kherson oblast   $25.91  \n",
       "28       Poland            Aisén    $5.55  \n",
       "29       Mexico            Sucre   $17.03  "
      ]
     },
     "execution_count": 72,
     "metadata": {},
     "output_type": "execute_result"
    }
   ],
   "source": [
    "# DataFrame combinaison ( line + columns )\n",
    "# pandas, numpy, matplotlib, skitlearn\n",
    "# Afiicher les cinqs dernières lignes\n",
    "dataframe.tail()\n"
   ]
  },
  {
   "cell_type": "code",
   "execution_count": 73,
   "metadata": {},
   "outputs": [
    {
     "data": {
      "text/plain": [
       "Index(['name', 'email', 'address', 'country', 'region', 'currency'], dtype='object')"
      ]
     },
     "execution_count": 73,
     "metadata": {},
     "output_type": "execute_result"
    }
   ],
   "source": [
    "# DataFrame combinaison ( line + columns )\n",
    "# pandas, numpy, matplotlib, skitlearn\n",
    "# Afiicher la liste dxes column\n",
    "dataframe.columns\n"
   ]
  },
  {
   "cell_type": "code",
   "execution_count": 74,
   "metadata": {},
   "outputs": [
    {
     "data": {
      "text/plain": [
       "pandas.core.indexes.base.Index"
      ]
     },
     "execution_count": 74,
     "metadata": {},
     "output_type": "execute_result"
    }
   ],
   "source": [
    "type(dataframe.columns)\n"
   ]
  },
  {
   "cell_type": "code",
   "execution_count": 75,
   "metadata": {},
   "outputs": [
    {
     "data": {
      "text/plain": [
       "['name', 'email', 'address', 'country', 'region', 'currency']"
      ]
     },
     "execution_count": 75,
     "metadata": {},
     "output_type": "execute_result"
    }
   ],
   "source": [
    "# Caster le type Index d'une dataframe\n",
    "list(dataframe.columns)\n"
   ]
  },
  {
   "cell_type": "code",
   "execution_count": 76,
   "metadata": {},
   "outputs": [
    {
     "data": {
      "text/plain": [
       "6"
      ]
     },
     "execution_count": 76,
     "metadata": {},
     "output_type": "execute_result"
    }
   ],
   "source": [
    "# Afficher la longueur de la liste des columns\n",
    "len(list(dataframe.columns))\n"
   ]
  },
  {
   "cell_type": "code",
   "execution_count": 77,
   "metadata": {},
   "outputs": [
    {
     "name": "stdout",
     "output_type": "stream",
     "text": [
      "name\n",
      "email\n",
      "address\n",
      "country\n",
      "region\n",
      "currency\n"
     ]
    }
   ],
   "source": [
    "# Afficher le contenu de la liste des columns\n",
    "# Première approche\n",
    "for column in list(dataframe.columns):\n",
    "    print(column)"
   ]
  },
  {
   "cell_type": "code",
   "execution_count": 78,
   "metadata": {},
   "outputs": [
    {
     "data": {
      "text/plain": [
       "['name', 'email', 'address', 'country', 'region', 'currency']"
      ]
     },
     "execution_count": 78,
     "metadata": {},
     "output_type": "execute_result"
    }
   ],
   "source": [
    "# Afficher le contenu de la liste des columns\n",
    "# Utilisation des listes compréhensions\n",
    "# Deuxième approche\n",
    "[column for column in list(dataframe.columns)]\n"
   ]
  },
  {
   "cell_type": "code",
   "execution_count": 79,
   "metadata": {},
   "outputs": [
    {
     "data": {
      "text/plain": [
       "(30, 6)"
      ]
     },
     "execution_count": 79,
     "metadata": {},
     "output_type": "execute_result"
    }
   ],
   "source": [
    "# DataFrame combinaison ( line + columns )\n",
    "# pandas, numpy, matplotlib, skitlearn\n",
    "# Afiicher la dimension de la dataframe\n",
    "dataframe.shape\n"
   ]
  },
  {
   "cell_type": "code",
   "execution_count": 80,
   "metadata": {},
   "outputs": [
    {
     "name": "stdout",
     "output_type": "stream",
     "text": [
      "Nombre de ligne: 30, nombre de colonne: 6\n"
     ]
    }
   ],
   "source": [
    "# DataFrame combinaison ( line + columns )\n",
    "# pandas, numpy, matplotlib, skitlearn\n",
    "# Afficher la dimension de la dataframe\n",
    "lines, columns = dataframe.shape\n",
    "\n",
    "print(f'Nombre de ligne: {lines}, nombre de colonne: {columns}')"
   ]
  },
  {
   "cell_type": "code",
   "execution_count": 81,
   "metadata": {},
   "outputs": [
    {
     "data": {
      "text/html": [
       "<div>\n",
       "<style scoped>\n",
       "    .dataframe tbody tr th:only-of-type {\n",
       "        vertical-align: middle;\n",
       "    }\n",
       "\n",
       "    .dataframe tbody tr th {\n",
       "        vertical-align: top;\n",
       "    }\n",
       "\n",
       "    .dataframe thead th {\n",
       "        text-align: right;\n",
       "    }\n",
       "</style>\n",
       "<table border=\"1\" class=\"dataframe\">\n",
       "  <thead>\n",
       "    <tr style=\"text-align: right;\">\n",
       "      <th></th>\n",
       "      <th>name</th>\n",
       "      <th>email</th>\n",
       "      <th>address</th>\n",
       "      <th>country</th>\n",
       "      <th>region</th>\n",
       "      <th>currency</th>\n",
       "    </tr>\n",
       "  </thead>\n",
       "  <tbody>\n",
       "    <tr>\n",
       "      <th>0</th>\n",
       "      <td>Chadwick Nguyen</td>\n",
       "      <td>nec.ligula@protonmail.edu</td>\n",
       "      <td>Ap #466-2636 A Rd.</td>\n",
       "      <td>Germany</td>\n",
       "      <td>Texas</td>\n",
       "      <td>$44.16</td>\n",
       "    </tr>\n",
       "    <tr>\n",
       "      <th>1</th>\n",
       "      <td>India Newman</td>\n",
       "      <td>vel.venenatis@icloud.couk</td>\n",
       "      <td>2125 Sed Street</td>\n",
       "      <td>China</td>\n",
       "      <td>Henegouwen</td>\n",
       "      <td>$92.54</td>\n",
       "    </tr>\n",
       "    <tr>\n",
       "      <th>2</th>\n",
       "      <td>Deborah Chase</td>\n",
       "      <td>lectus.ante@protonmail.org</td>\n",
       "      <td>Ap #601-6030 Eu Av.</td>\n",
       "      <td>New Zealand</td>\n",
       "      <td>łódzkie</td>\n",
       "      <td>$1.88</td>\n",
       "    </tr>\n",
       "    <tr>\n",
       "      <th>3</th>\n",
       "      <td>Donna Salazar</td>\n",
       "      <td>mauris@google.org</td>\n",
       "      <td>781-6803 Curabitur St.</td>\n",
       "      <td>Indonesia</td>\n",
       "      <td>Madrid</td>\n",
       "      <td>$2.68</td>\n",
       "    </tr>\n",
       "    <tr>\n",
       "      <th>4</th>\n",
       "      <td>Heidi Bennett</td>\n",
       "      <td>ultrices.a.auctor@hotmail.net</td>\n",
       "      <td>326-6406 Natoque Ave</td>\n",
       "      <td>Norway</td>\n",
       "      <td>South Gyeongsang</td>\n",
       "      <td>$32.80</td>\n",
       "    </tr>\n",
       "  </tbody>\n",
       "</table>\n",
       "</div>"
      ],
      "text/plain": [
       "              name                          email                 address  \\\n",
       "0  Chadwick Nguyen      nec.ligula@protonmail.edu      Ap #466-2636 A Rd.   \n",
       "1     India Newman      vel.venenatis@icloud.couk         2125 Sed Street   \n",
       "2    Deborah Chase     lectus.ante@protonmail.org     Ap #601-6030 Eu Av.   \n",
       "3    Donna Salazar              mauris@google.org  781-6803 Curabitur St.   \n",
       "4    Heidi Bennett  ultrices.a.auctor@hotmail.net    326-6406 Natoque Ave   \n",
       "\n",
       "       country            region currency  \n",
       "0      Germany             Texas   $44.16  \n",
       "1        China        Henegouwen   $92.54  \n",
       "2  New Zealand           łódzkie    $1.88  \n",
       "3    Indonesia            Madrid    $2.68  \n",
       "4       Norway  South Gyeongsang   $32.80  "
      ]
     },
     "execution_count": 81,
     "metadata": {},
     "output_type": "execute_result"
    }
   ],
   "source": [
    "# DataFrame combinaison ( line + columns )\n",
    "# pandas, numpy, matplotlib, skitlearn\n",
    "# Afficher plus de 5 lignes\n",
    "dataframe.head(n=5)"
   ]
  },
  {
   "cell_type": "code",
   "execution_count": 82,
   "metadata": {},
   "outputs": [
    {
     "data": {
      "text/html": [
       "<div>\n",
       "<style scoped>\n",
       "    .dataframe tbody tr th:only-of-type {\n",
       "        vertical-align: middle;\n",
       "    }\n",
       "\n",
       "    .dataframe tbody tr th {\n",
       "        vertical-align: top;\n",
       "    }\n",
       "\n",
       "    .dataframe thead th {\n",
       "        text-align: right;\n",
       "    }\n",
       "</style>\n",
       "<table border=\"1\" class=\"dataframe\">\n",
       "  <thead>\n",
       "    <tr style=\"text-align: right;\">\n",
       "      <th></th>\n",
       "      <th>name</th>\n",
       "      <th>email</th>\n",
       "      <th>address</th>\n",
       "      <th>country</th>\n",
       "      <th>region</th>\n",
       "      <th>currency</th>\n",
       "    </tr>\n",
       "  </thead>\n",
       "  <tbody>\n",
       "    <tr>\n",
       "      <th>0</th>\n",
       "      <td>Chadwick Nguyen</td>\n",
       "      <td>nec.ligula@protonmail.edu</td>\n",
       "      <td>Ap #466-2636 A Rd.</td>\n",
       "      <td>Germany</td>\n",
       "      <td>Texas</td>\n",
       "      <td>$44.16</td>\n",
       "    </tr>\n",
       "    <tr>\n",
       "      <th>1</th>\n",
       "      <td>India Newman</td>\n",
       "      <td>vel.venenatis@icloud.couk</td>\n",
       "      <td>2125 Sed Street</td>\n",
       "      <td>China</td>\n",
       "      <td>Henegouwen</td>\n",
       "      <td>$92.54</td>\n",
       "    </tr>\n",
       "    <tr>\n",
       "      <th>2</th>\n",
       "      <td>Deborah Chase</td>\n",
       "      <td>lectus.ante@protonmail.org</td>\n",
       "      <td>Ap #601-6030 Eu Av.</td>\n",
       "      <td>New Zealand</td>\n",
       "      <td>łódzkie</td>\n",
       "      <td>$1.88</td>\n",
       "    </tr>\n",
       "    <tr>\n",
       "      <th>3</th>\n",
       "      <td>Donna Salazar</td>\n",
       "      <td>mauris@google.org</td>\n",
       "      <td>781-6803 Curabitur St.</td>\n",
       "      <td>Indonesia</td>\n",
       "      <td>Madrid</td>\n",
       "      <td>$2.68</td>\n",
       "    </tr>\n",
       "    <tr>\n",
       "      <th>4</th>\n",
       "      <td>Heidi Bennett</td>\n",
       "      <td>ultrices.a.auctor@hotmail.net</td>\n",
       "      <td>326-6406 Natoque Ave</td>\n",
       "      <td>Norway</td>\n",
       "      <td>South Gyeongsang</td>\n",
       "      <td>$32.80</td>\n",
       "    </tr>\n",
       "    <tr>\n",
       "      <th>5</th>\n",
       "      <td>Hyacinth Bauer</td>\n",
       "      <td>urna.suscipit@protonmail.com</td>\n",
       "      <td>601-916 Ante, Rd.</td>\n",
       "      <td>Russian Federation</td>\n",
       "      <td>Cusco</td>\n",
       "      <td>$28.43</td>\n",
       "    </tr>\n",
       "    <tr>\n",
       "      <th>6</th>\n",
       "      <td>Forrest Sweeney</td>\n",
       "      <td>commodo.ipsum@aol.edu</td>\n",
       "      <td>5500 Ut Avenue</td>\n",
       "      <td>Canada</td>\n",
       "      <td>Novgorod Oblast</td>\n",
       "      <td>$47.63</td>\n",
       "    </tr>\n",
       "    <tr>\n",
       "      <th>7</th>\n",
       "      <td>Kirestin Kramer</td>\n",
       "      <td>aliquet.molestie.tellus@aol.edu</td>\n",
       "      <td>1495 Id, Rd.</td>\n",
       "      <td>Poland</td>\n",
       "      <td>Namen</td>\n",
       "      <td>$82.24</td>\n",
       "    </tr>\n",
       "    <tr>\n",
       "      <th>8</th>\n",
       "      <td>Grant George</td>\n",
       "      <td>felis@google.org</td>\n",
       "      <td>508-5183 Suspendisse Avenue</td>\n",
       "      <td>Australia</td>\n",
       "      <td>Comunitat Valenciana</td>\n",
       "      <td>$38.37</td>\n",
       "    </tr>\n",
       "    <tr>\n",
       "      <th>9</th>\n",
       "      <td>Shaeleigh Le</td>\n",
       "      <td>quisque@hotmail.couk</td>\n",
       "      <td>Ap #600-3443 Dictum. St.</td>\n",
       "      <td>Ireland</td>\n",
       "      <td>Västra Götalands län</td>\n",
       "      <td>$23.51</td>\n",
       "    </tr>\n",
       "  </tbody>\n",
       "</table>\n",
       "</div>"
      ],
      "text/plain": [
       "              name                            email  \\\n",
       "0  Chadwick Nguyen        nec.ligula@protonmail.edu   \n",
       "1     India Newman        vel.venenatis@icloud.couk   \n",
       "2    Deborah Chase       lectus.ante@protonmail.org   \n",
       "3    Donna Salazar                mauris@google.org   \n",
       "4    Heidi Bennett    ultrices.a.auctor@hotmail.net   \n",
       "5   Hyacinth Bauer     urna.suscipit@protonmail.com   \n",
       "6  Forrest Sweeney            commodo.ipsum@aol.edu   \n",
       "7  Kirestin Kramer  aliquet.molestie.tellus@aol.edu   \n",
       "8     Grant George                 felis@google.org   \n",
       "9     Shaeleigh Le             quisque@hotmail.couk   \n",
       "\n",
       "                       address             country                region  \\\n",
       "0           Ap #466-2636 A Rd.             Germany                 Texas   \n",
       "1              2125 Sed Street               China            Henegouwen   \n",
       "2          Ap #601-6030 Eu Av.         New Zealand               łódzkie   \n",
       "3       781-6803 Curabitur St.           Indonesia                Madrid   \n",
       "4         326-6406 Natoque Ave              Norway      South Gyeongsang   \n",
       "5            601-916 Ante, Rd.  Russian Federation                 Cusco   \n",
       "6               5500 Ut Avenue              Canada       Novgorod Oblast   \n",
       "7                 1495 Id, Rd.              Poland                 Namen   \n",
       "8  508-5183 Suspendisse Avenue           Australia  Comunitat Valenciana   \n",
       "9     Ap #600-3443 Dictum. St.             Ireland  Västra Götalands län   \n",
       "\n",
       "  currency  \n",
       "0   $44.16  \n",
       "1   $92.54  \n",
       "2    $1.88  \n",
       "3    $2.68  \n",
       "4   $32.80  \n",
       "5   $28.43  \n",
       "6   $47.63  \n",
       "7   $82.24  \n",
       "8   $38.37  \n",
       "9   $23.51  "
      ]
     },
     "execution_count": 82,
     "metadata": {},
     "output_type": "execute_result"
    }
   ],
   "source": [
    "# DataFrame combinaison ( line + columns )\n",
    "# pandas, numpy, matplotlib, skitlearn\n",
    "# Afficher plus de 5 lignes\n",
    "dataframe.head(n=10)\n"
   ]
  },
  {
   "cell_type": "code",
   "execution_count": 83,
   "metadata": {},
   "outputs": [
    {
     "data": {
      "text/html": [
       "<div>\n",
       "<style scoped>\n",
       "    .dataframe tbody tr th:only-of-type {\n",
       "        vertical-align: middle;\n",
       "    }\n",
       "\n",
       "    .dataframe tbody tr th {\n",
       "        vertical-align: top;\n",
       "    }\n",
       "\n",
       "    .dataframe thead th {\n",
       "        text-align: right;\n",
       "    }\n",
       "</style>\n",
       "<table border=\"1\" class=\"dataframe\">\n",
       "  <thead>\n",
       "    <tr style=\"text-align: right;\">\n",
       "      <th></th>\n",
       "      <th>name</th>\n",
       "      <th>email</th>\n",
       "      <th>address</th>\n",
       "      <th>country</th>\n",
       "      <th>region</th>\n",
       "      <th>currency</th>\n",
       "    </tr>\n",
       "  </thead>\n",
       "  <tbody>\n",
       "    <tr>\n",
       "      <th>20</th>\n",
       "      <td>Nash Herring</td>\n",
       "      <td>quisque@outlook.edu</td>\n",
       "      <td>991-5819 Ante Rd.</td>\n",
       "      <td>Chile</td>\n",
       "      <td>South Australia</td>\n",
       "      <td>$26.40</td>\n",
       "    </tr>\n",
       "    <tr>\n",
       "      <th>21</th>\n",
       "      <td>Ingrid Doyle</td>\n",
       "      <td>phasellus.at@outlook.couk</td>\n",
       "      <td>192 Magna. Avenue</td>\n",
       "      <td>Russian Federation</td>\n",
       "      <td>Poitou-Charentes</td>\n",
       "      <td>$2.89</td>\n",
       "    </tr>\n",
       "    <tr>\n",
       "      <th>22</th>\n",
       "      <td>Kim Brock</td>\n",
       "      <td>non.dapibus@aol.ca</td>\n",
       "      <td>654-8001 Semper Ave</td>\n",
       "      <td>Indonesia</td>\n",
       "      <td>Cagayan Valley</td>\n",
       "      <td>$22.15</td>\n",
       "    </tr>\n",
       "    <tr>\n",
       "      <th>23</th>\n",
       "      <td>Harlan Baker</td>\n",
       "      <td>sit@protonmail.org</td>\n",
       "      <td>6090 Vulputate, St.</td>\n",
       "      <td>France</td>\n",
       "      <td>Antwerpen</td>\n",
       "      <td>$2.17</td>\n",
       "    </tr>\n",
       "    <tr>\n",
       "      <th>24</th>\n",
       "      <td>Lester Olsen</td>\n",
       "      <td>dolor.quam.elementum@icloud.net</td>\n",
       "      <td>968-2002 Sed Ave</td>\n",
       "      <td>Ireland</td>\n",
       "      <td>Comunitat Valenciana</td>\n",
       "      <td>$95.04</td>\n",
       "    </tr>\n",
       "    <tr>\n",
       "      <th>25</th>\n",
       "      <td>Jeanette Duran</td>\n",
       "      <td>orci.sem@icloud.com</td>\n",
       "      <td>9805 Mollis St.</td>\n",
       "      <td>Australia</td>\n",
       "      <td>Magdalena</td>\n",
       "      <td>$75.51</td>\n",
       "    </tr>\n",
       "    <tr>\n",
       "      <th>26</th>\n",
       "      <td>Tobias Key</td>\n",
       "      <td>in.faucibus.orci@icloud.couk</td>\n",
       "      <td>P.O. Box 256, 8876 Sed Ave</td>\n",
       "      <td>Sweden</td>\n",
       "      <td>New South Wales</td>\n",
       "      <td>$0.48</td>\n",
       "    </tr>\n",
       "    <tr>\n",
       "      <th>27</th>\n",
       "      <td>George Avila</td>\n",
       "      <td>et.rutrum@protonmail.couk</td>\n",
       "      <td>Ap #284-5000 Orci. Ave</td>\n",
       "      <td>South Korea</td>\n",
       "      <td>Kherson oblast</td>\n",
       "      <td>$25.91</td>\n",
       "    </tr>\n",
       "    <tr>\n",
       "      <th>28</th>\n",
       "      <td>Alvin Vaughan</td>\n",
       "      <td>class.aptent.taciti@yahoo.org</td>\n",
       "      <td>384-5221 Quisque Street</td>\n",
       "      <td>Poland</td>\n",
       "      <td>Aisén</td>\n",
       "      <td>$5.55</td>\n",
       "    </tr>\n",
       "    <tr>\n",
       "      <th>29</th>\n",
       "      <td>Justin Bright</td>\n",
       "      <td>pede.nec@yahoo.ca</td>\n",
       "      <td>334-4843 Magna. Road</td>\n",
       "      <td>Mexico</td>\n",
       "      <td>Sucre</td>\n",
       "      <td>$17.03</td>\n",
       "    </tr>\n",
       "  </tbody>\n",
       "</table>\n",
       "</div>"
      ],
      "text/plain": [
       "              name                            email  \\\n",
       "20    Nash Herring              quisque@outlook.edu   \n",
       "21    Ingrid Doyle        phasellus.at@outlook.couk   \n",
       "22       Kim Brock               non.dapibus@aol.ca   \n",
       "23    Harlan Baker               sit@protonmail.org   \n",
       "24    Lester Olsen  dolor.quam.elementum@icloud.net   \n",
       "25  Jeanette Duran              orci.sem@icloud.com   \n",
       "26      Tobias Key     in.faucibus.orci@icloud.couk   \n",
       "27    George Avila        et.rutrum@protonmail.couk   \n",
       "28   Alvin Vaughan    class.aptent.taciti@yahoo.org   \n",
       "29   Justin Bright                pede.nec@yahoo.ca   \n",
       "\n",
       "                       address             country                region  \\\n",
       "20           991-5819 Ante Rd.               Chile       South Australia   \n",
       "21           192 Magna. Avenue  Russian Federation      Poitou-Charentes   \n",
       "22         654-8001 Semper Ave           Indonesia        Cagayan Valley   \n",
       "23         6090 Vulputate, St.              France             Antwerpen   \n",
       "24            968-2002 Sed Ave             Ireland  Comunitat Valenciana   \n",
       "25             9805 Mollis St.           Australia             Magdalena   \n",
       "26  P.O. Box 256, 8876 Sed Ave              Sweden       New South Wales   \n",
       "27      Ap #284-5000 Orci. Ave         South Korea        Kherson oblast   \n",
       "28     384-5221 Quisque Street              Poland                 Aisén   \n",
       "29        334-4843 Magna. Road              Mexico                 Sucre   \n",
       "\n",
       "   currency  \n",
       "20   $26.40  \n",
       "21    $2.89  \n",
       "22   $22.15  \n",
       "23    $2.17  \n",
       "24   $95.04  \n",
       "25   $75.51  \n",
       "26    $0.48  \n",
       "27   $25.91  \n",
       "28    $5.55  \n",
       "29   $17.03  "
      ]
     },
     "execution_count": 83,
     "metadata": {},
     "output_type": "execute_result"
    }
   ],
   "source": [
    "# DataFrame combinaison ( line + columns )\n",
    "# pandas, numpy, matplotlib, skitlearn\n",
    "# Afficher plus de 5 dernières lignes\n",
    "dataframe.tail(n=10)\n"
   ]
  },
  {
   "cell_type": "code",
   "execution_count": 84,
   "metadata": {},
   "outputs": [
    {
     "data": {
      "text/plain": [
       "0               Ap #466-2636 A Rd.\n",
       "1                  2125 Sed Street\n",
       "2              Ap #601-6030 Eu Av.\n",
       "3           781-6803 Curabitur St.\n",
       "4             326-6406 Natoque Ave\n",
       "5                601-916 Ante, Rd.\n",
       "6                   5500 Ut Avenue\n",
       "7                     1495 Id, Rd.\n",
       "8      508-5183 Suspendisse Avenue\n",
       "9         Ap #600-3443 Dictum. St.\n",
       "10            824-2407 Nisi Street\n",
       "11    P.O. Box 502, 7825 A, Avenue\n",
       "12    P.O. Box 764, 2041 Etiam St.\n",
       "13                     126 Sit Rd.\n",
       "14           Ap #932-2288 Nunc Rd.\n",
       "15              369-9250 Et Street\n",
       "16                134-4184 Leo Av.\n",
       "17          Ap #697-8084 Enim. Rd.\n",
       "18      P.O. Box 959, 7154 Id, St.\n",
       "19      P.O. Box 749, 7060 Cum Av.\n",
       "20               991-5819 Ante Rd.\n",
       "21               192 Magna. Avenue\n",
       "22             654-8001 Semper Ave\n",
       "23             6090 Vulputate, St.\n",
       "24                968-2002 Sed Ave\n",
       "25                 9805 Mollis St.\n",
       "26      P.O. Box 256, 8876 Sed Ave\n",
       "27          Ap #284-5000 Orci. Ave\n",
       "28         384-5221 Quisque Street\n",
       "29            334-4843 Magna. Road\n",
       "Name: address, dtype: object"
      ]
     },
     "execution_count": 84,
     "metadata": {},
     "output_type": "execute_result"
    }
   ],
   "source": [
    "# DataFrame combinaison ( line + columns )\n",
    "# pandas, numpy, matplotlib, skitlearn\n",
    "# Afficher une colonne address\n",
    "dataframe['address']\n"
   ]
  },
  {
   "cell_type": "code",
   "execution_count": 85,
   "metadata": {},
   "outputs": [
    {
     "data": {
      "text/plain": [
       "0                Germany\n",
       "1                  China\n",
       "2            New Zealand\n",
       "3              Indonesia\n",
       "4                 Norway\n",
       "5     Russian Federation\n",
       "6                 Canada\n",
       "7                 Poland\n",
       "8              Australia\n",
       "9                Ireland\n",
       "10                  Peru\n",
       "11           New Zealand\n",
       "12                 Italy\n",
       "13                  Peru\n",
       "14                 Italy\n",
       "15               Germany\n",
       "16                Mexico\n",
       "17                 Italy\n",
       "18           Netherlands\n",
       "19              Pakistan\n",
       "20                 Chile\n",
       "21    Russian Federation\n",
       "22             Indonesia\n",
       "23                France\n",
       "24               Ireland\n",
       "25             Australia\n",
       "26                Sweden\n",
       "27           South Korea\n",
       "28                Poland\n",
       "29                Mexico\n",
       "Name: country, dtype: object"
      ]
     },
     "execution_count": 85,
     "metadata": {},
     "output_type": "execute_result"
    }
   ],
   "source": [
    "# DataFrame combinaison ( line + columns )\n",
    "# pandas, numpy, matplotlib, skitlearn\n",
    "# Afficher une colonne country\n",
    "dataframe['country']\n"
   ]
  },
  {
   "cell_type": "code",
   "execution_count": 86,
   "metadata": {},
   "outputs": [],
   "source": [
    "# DataFrame combinaison ( line + columns )\n",
    "# pandas, numpy, matplotlib, skitlearn\n",
    "# Créer une nouvelle dataframe\n",
    "address_country = dataframe[['address', 'country']]\n"
   ]
  },
  {
   "cell_type": "code",
   "execution_count": 87,
   "metadata": {},
   "outputs": [
    {
     "data": {
      "text/html": [
       "<div>\n",
       "<style scoped>\n",
       "    .dataframe tbody tr th:only-of-type {\n",
       "        vertical-align: middle;\n",
       "    }\n",
       "\n",
       "    .dataframe tbody tr th {\n",
       "        vertical-align: top;\n",
       "    }\n",
       "\n",
       "    .dataframe thead th {\n",
       "        text-align: right;\n",
       "    }\n",
       "</style>\n",
       "<table border=\"1\" class=\"dataframe\">\n",
       "  <thead>\n",
       "    <tr style=\"text-align: right;\">\n",
       "      <th></th>\n",
       "      <th>address</th>\n",
       "      <th>country</th>\n",
       "    </tr>\n",
       "  </thead>\n",
       "  <tbody>\n",
       "    <tr>\n",
       "      <th>0</th>\n",
       "      <td>Ap #466-2636 A Rd.</td>\n",
       "      <td>Germany</td>\n",
       "    </tr>\n",
       "    <tr>\n",
       "      <th>1</th>\n",
       "      <td>2125 Sed Street</td>\n",
       "      <td>China</td>\n",
       "    </tr>\n",
       "    <tr>\n",
       "      <th>2</th>\n",
       "      <td>Ap #601-6030 Eu Av.</td>\n",
       "      <td>New Zealand</td>\n",
       "    </tr>\n",
       "    <tr>\n",
       "      <th>3</th>\n",
       "      <td>781-6803 Curabitur St.</td>\n",
       "      <td>Indonesia</td>\n",
       "    </tr>\n",
       "    <tr>\n",
       "      <th>4</th>\n",
       "      <td>326-6406 Natoque Ave</td>\n",
       "      <td>Norway</td>\n",
       "    </tr>\n",
       "  </tbody>\n",
       "</table>\n",
       "</div>"
      ],
      "text/plain": [
       "                  address      country\n",
       "0      Ap #466-2636 A Rd.      Germany\n",
       "1         2125 Sed Street        China\n",
       "2     Ap #601-6030 Eu Av.  New Zealand\n",
       "3  781-6803 Curabitur St.    Indonesia\n",
       "4    326-6406 Natoque Ave       Norway"
      ]
     },
     "execution_count": 87,
     "metadata": {},
     "output_type": "execute_result"
    }
   ],
   "source": [
    "address_country.head()"
   ]
  },
  {
   "cell_type": "code",
   "execution_count": 88,
   "metadata": {},
   "outputs": [
    {
     "data": {
      "text/plain": [
       "pandas.core.frame.DataFrame"
      ]
     },
     "execution_count": 88,
     "metadata": {},
     "output_type": "execute_result"
    }
   ],
   "source": [
    "type(address_country)\n"
   ]
  },
  {
   "cell_type": "code",
   "execution_count": 89,
   "metadata": {},
   "outputs": [
    {
     "data": {
      "text/plain": [
       "['Ap #466-2636 A Rd.',\n",
       " '2125 Sed Street',\n",
       " 'Ap #601-6030 Eu Av.',\n",
       " '781-6803 Curabitur St.',\n",
       " '326-6406 Natoque Ave']"
      ]
     },
     "execution_count": 89,
     "metadata": {},
     "output_type": "execute_result"
    }
   ],
   "source": [
    "# Convertion en np.array\n",
    "# Approche des index et le slicing\n",
    "# Slicing: [0:5] c-a-d fermé sur 0 et ouvert sur 5. 0 à 4\n",
    "# tab[0], tab[1], tab[2], tab[3], tab[4]\n",
    "list(dataframe['address'].values)[0:5]\n"
   ]
  },
  {
   "cell_type": "code",
   "execution_count": 90,
   "metadata": {},
   "outputs": [
    {
     "data": {
      "text/plain": [
       "numpy.ndarray"
      ]
     },
     "execution_count": 90,
     "metadata": {},
     "output_type": "execute_result"
    }
   ],
   "source": [
    "type(dataframe['address'].values)\n"
   ]
  },
  {
   "cell_type": "code",
   "execution_count": 91,
   "metadata": {},
   "outputs": [
    {
     "data": {
      "text/plain": [
       "str"
      ]
     },
     "execution_count": 91,
     "metadata": {},
     "output_type": "execute_result"
    }
   ],
   "source": [
    "tampon = list(dataframe['address'].values)[0:5]\n",
    "\n",
    "# Essayer de retirer les # de cet échantillon\n",
    "type(tampon[0])"
   ]
  },
  {
   "cell_type": "code",
   "execution_count": 92,
   "metadata": {},
   "outputs": [
    {
     "data": {
      "text/plain": [
       "['Ap 466-2636 A Rd.',\n",
       " '2125 Sed Street',\n",
       " 'Ap 601-6030 Eu Av.',\n",
       " '781-6803 Curabitur St.',\n",
       " '326-6406 Natoque Ave']"
      ]
     },
     "execution_count": 92,
     "metadata": {},
     "output_type": "execute_result"
    }
   ],
   "source": [
    "for index, value in enumerate(tampon):\n",
    "    tampon[index] = value.replace('#', '')\n",
    "    \n",
    "tampon\n"
   ]
  },
  {
   "cell_type": "code",
   "execution_count": 93,
   "metadata": {},
   "outputs": [
    {
     "data": {
      "text/plain": [
       "0        Ap #466-2636 A Rd.\n",
       "1           2125 Sed Street\n",
       "2       Ap #601-6030 Eu Av.\n",
       "3    781-6803 Curabitur St.\n",
       "4      326-6406 Natoque Ave\n",
       "Name: address, dtype: object"
      ]
     },
     "execution_count": 93,
     "metadata": {},
     "output_type": "execute_result"
    }
   ],
   "source": [
    "dataframe['address'].head()"
   ]
  },
  {
   "cell_type": "code",
   "execution_count": 94,
   "metadata": {},
   "outputs": [
    {
     "data": {
      "text/plain": [
       "0         Ap 466-2636 A Rd.\n",
       "1           2125 Sed Street\n",
       "2        Ap 601-6030 Eu Av.\n",
       "3    781-6803 Curabitur St.\n",
       "4      326-6406 Natoque Ave\n",
       "Name: address, dtype: object"
      ]
     },
     "execution_count": 94,
     "metadata": {},
     "output_type": "execute_result"
    }
   ],
   "source": [
    "def clean_special_character(\n",
    "    character: str, \n",
    "    replace_character: str, \n",
    "    dataframe: pd.DataFrame\n",
    ") -> pd.DataFrame:\n",
    "    for index, value in enumerate(dataframe):\n",
    "        if character in value:\n",
    "            dataframe[index] = value.replace(character, replace_character)\n",
    "    return dataframe\n",
    "\n",
    "# Il faut utiliser la fonction copy()\n",
    "dataframe_tampon_address = dataframe['address']\n",
    "\n",
    "clean_special_character('#', '', dataframe_tampon_address)[0:5]"
   ]
  },
  {
   "cell_type": "code",
   "execution_count": 95,
   "metadata": {},
   "outputs": [
    {
     "data": {
      "text/plain": [
       "0         Ap 466-2636 A Rd.\n",
       "1           2125 Sed Street\n",
       "2        Ap 601-6030 Eu Av.\n",
       "3    781-6803 Curabitur St.\n",
       "4      326-6406 Natoque Ave\n",
       "Name: address, dtype: object"
      ]
     },
     "execution_count": 95,
     "metadata": {},
     "output_type": "execute_result"
    }
   ],
   "source": [
    "dataframe['address'][0:5]\n"
   ]
  },
  {
   "cell_type": "code",
   "execution_count": 96,
   "metadata": {},
   "outputs": [
    {
     "data": {
      "text/plain": [
       "'Ap 466-2636 A Rd.'"
      ]
     },
     "execution_count": 96,
     "metadata": {},
     "output_type": "execute_result"
    }
   ],
   "source": [
    "dataframe['address'][0]\n"
   ]
  },
  {
   "cell_type": "code",
   "execution_count": 97,
   "metadata": {},
   "outputs": [
    {
     "data": {
      "text/plain": [
       "['Ap 466-2636 A Rd.',\n",
       " '2125 Sed Street',\n",
       " 'Ap 601-6030 Eu Av.',\n",
       " '781-6803 Curabitur St.',\n",
       " '326-6406 Natoque Ave']"
      ]
     },
     "execution_count": 97,
     "metadata": {},
     "output_type": "execute_result"
    }
   ],
   "source": [
    "# Recherche par condition\n",
    "list(dataframe['address'][0:5])\n"
   ]
  },
  {
   "cell_type": "code",
   "execution_count": 98,
   "metadata": {},
   "outputs": [
    {
     "name": "stdout",
     "output_type": "stream",
     "text": [
      "Ap 466-2636 A Rd.\n"
     ]
    }
   ],
   "source": [
    "for item in list(dataframe['address'][0:5]):\n",
    "    if '466-2636' in item:\n",
    "        print(item)\n"
   ]
  },
  {
   "cell_type": "code",
   "execution_count": 99,
   "metadata": {},
   "outputs": [
    {
     "data": {
      "text/plain": [
       "'currency'"
      ]
     },
     "execution_count": 99,
     "metadata": {},
     "output_type": "execute_result"
    }
   ],
   "source": [
    "dataframe.columns[5]"
   ]
  },
  {
   "cell_type": "code",
   "execution_count": 100,
   "metadata": {},
   "outputs": [],
   "source": [
    "# Créer une nouvelle colonne\n",
    "dataframe['amount'] = 0\n"
   ]
  },
  {
   "cell_type": "code",
   "execution_count": 101,
   "metadata": {},
   "outputs": [
    {
     "data": {
      "text/plain": [
       "Index(['name', 'email', 'address', 'country', 'region', 'currency', 'amount'], dtype='object')"
      ]
     },
     "execution_count": 101,
     "metadata": {},
     "output_type": "execute_result"
    }
   ],
   "source": [
    "dataframe.columns"
   ]
  },
  {
   "cell_type": "code",
   "execution_count": 102,
   "metadata": {},
   "outputs": [
    {
     "data": {
      "text/plain": [
       "(30, 7)"
      ]
     },
     "execution_count": 102,
     "metadata": {},
     "output_type": "execute_result"
    }
   ],
   "source": [
    "dataframe.shape"
   ]
  },
  {
   "cell_type": "code",
   "execution_count": 103,
   "metadata": {},
   "outputs": [],
   "source": [
    "dataframe['amount'] = dataframe['currency']"
   ]
  },
  {
   "cell_type": "code",
   "execution_count": 104,
   "metadata": {},
   "outputs": [],
   "source": [
    "for index, value in enumerate(dataframe['amount']):\n",
    "    dataframe['amount'][index] = dataframe['amount'][index].replace('$', '')\n"
   ]
  },
  {
   "cell_type": "code",
   "execution_count": 105,
   "metadata": {},
   "outputs": [],
   "source": [
    "for index, value in enumerate(dataframe['amount']):\n",
    "    dataframe['amount'][index] = float(dataframe['amount'][index])\n"
   ]
  },
  {
   "cell_type": "code",
   "execution_count": 106,
   "metadata": {},
   "outputs": [],
   "source": [
    "# Suppression de la colonne amount\n",
    "del dataframe['amount']\n"
   ]
  },
  {
   "cell_type": "code",
   "execution_count": 107,
   "metadata": {},
   "outputs": [
    {
     "data": {
      "text/html": [
       "<div>\n",
       "<style scoped>\n",
       "    .dataframe tbody tr th:only-of-type {\n",
       "        vertical-align: middle;\n",
       "    }\n",
       "\n",
       "    .dataframe tbody tr th {\n",
       "        vertical-align: top;\n",
       "    }\n",
       "\n",
       "    .dataframe thead th {\n",
       "        text-align: right;\n",
       "    }\n",
       "</style>\n",
       "<table border=\"1\" class=\"dataframe\">\n",
       "  <thead>\n",
       "    <tr style=\"text-align: right;\">\n",
       "      <th></th>\n",
       "      <th>name</th>\n",
       "      <th>email</th>\n",
       "      <th>address</th>\n",
       "      <th>country</th>\n",
       "      <th>region</th>\n",
       "      <th>currency</th>\n",
       "    </tr>\n",
       "  </thead>\n",
       "  <tbody>\n",
       "    <tr>\n",
       "      <th>0</th>\n",
       "      <td>Chadwick Nguyen</td>\n",
       "      <td>nec.ligula@protonmail.edu</td>\n",
       "      <td>Ap 466-2636 A Rd.</td>\n",
       "      <td>Germany</td>\n",
       "      <td>Texas</td>\n",
       "      <td>$44.16</td>\n",
       "    </tr>\n",
       "    <tr>\n",
       "      <th>1</th>\n",
       "      <td>India Newman</td>\n",
       "      <td>vel.venenatis@icloud.couk</td>\n",
       "      <td>2125 Sed Street</td>\n",
       "      <td>China</td>\n",
       "      <td>Henegouwen</td>\n",
       "      <td>$92.54</td>\n",
       "    </tr>\n",
       "    <tr>\n",
       "      <th>2</th>\n",
       "      <td>Deborah Chase</td>\n",
       "      <td>lectus.ante@protonmail.org</td>\n",
       "      <td>Ap 601-6030 Eu Av.</td>\n",
       "      <td>New Zealand</td>\n",
       "      <td>łódzkie</td>\n",
       "      <td>$1.88</td>\n",
       "    </tr>\n",
       "    <tr>\n",
       "      <th>3</th>\n",
       "      <td>Donna Salazar</td>\n",
       "      <td>mauris@google.org</td>\n",
       "      <td>781-6803 Curabitur St.</td>\n",
       "      <td>Indonesia</td>\n",
       "      <td>Madrid</td>\n",
       "      <td>$2.68</td>\n",
       "    </tr>\n",
       "    <tr>\n",
       "      <th>4</th>\n",
       "      <td>Heidi Bennett</td>\n",
       "      <td>ultrices.a.auctor@hotmail.net</td>\n",
       "      <td>326-6406 Natoque Ave</td>\n",
       "      <td>Norway</td>\n",
       "      <td>South Gyeongsang</td>\n",
       "      <td>$32.80</td>\n",
       "    </tr>\n",
       "  </tbody>\n",
       "</table>\n",
       "</div>"
      ],
      "text/plain": [
       "              name                          email                 address  \\\n",
       "0  Chadwick Nguyen      nec.ligula@protonmail.edu       Ap 466-2636 A Rd.   \n",
       "1     India Newman      vel.venenatis@icloud.couk         2125 Sed Street   \n",
       "2    Deborah Chase     lectus.ante@protonmail.org      Ap 601-6030 Eu Av.   \n",
       "3    Donna Salazar              mauris@google.org  781-6803 Curabitur St.   \n",
       "4    Heidi Bennett  ultrices.a.auctor@hotmail.net    326-6406 Natoque Ave   \n",
       "\n",
       "       country            region currency  \n",
       "0      Germany             Texas   $44.16  \n",
       "1        China        Henegouwen   $92.54  \n",
       "2  New Zealand           łódzkie    $1.88  \n",
       "3    Indonesia            Madrid    $2.68  \n",
       "4       Norway  South Gyeongsang   $32.80  "
      ]
     },
     "execution_count": 107,
     "metadata": {},
     "output_type": "execute_result"
    }
   ],
   "source": [
    "dataframe.head()"
   ]
  },
  {
   "cell_type": "code",
   "execution_count": 108,
   "metadata": {},
   "outputs": [],
   "source": [
    "# Ajouter une colonne sur une dataframe\n",
    "# Ajouter la colonne amount\n",
    "# On peut initialiser\n",
    "# On peut copier une colonne dans une autres\n",
    "dataframe['amount'] = 1000"
   ]
  },
  {
   "cell_type": "code",
   "execution_count": 109,
   "metadata": {},
   "outputs": [
    {
     "data": {
      "text/plain": [
       "0    1000\n",
       "1    1000\n",
       "2    1000\n",
       "3    1000\n",
       "4    1000\n",
       "Name: amount, dtype: int64"
      ]
     },
     "execution_count": 109,
     "metadata": {},
     "output_type": "execute_result"
    }
   ],
   "source": [
    "dataframe['amount'].head()"
   ]
  },
  {
   "cell_type": "code",
   "execution_count": 110,
   "metadata": {},
   "outputs": [],
   "source": [
    "# Ajouter une colonne sur une dataframe\n",
    "# Ajouter la colonne amount\n",
    "# On peut initialiser\n",
    "# On peut copier une colonne dans une autres\n",
    "dataframe['amount'] = dataframe['currency']\n"
   ]
  },
  {
   "cell_type": "code",
   "execution_count": 111,
   "metadata": {},
   "outputs": [
    {
     "data": {
      "text/plain": [
       "str"
      ]
     },
     "execution_count": 111,
     "metadata": {},
     "output_type": "execute_result"
    }
   ],
   "source": [
    "type(dataframe['amount'][0])\n"
   ]
  },
  {
   "cell_type": "code",
   "execution_count": 112,
   "metadata": {},
   "outputs": [],
   "source": [
    "# Passage a un type float\n",
    "for index, value in enumerate(dataframe['amount']):\n",
    "    dataframe['amount'][index] = float(value.replace('$', ''))"
   ]
  },
  {
   "cell_type": "code",
   "execution_count": 113,
   "metadata": {},
   "outputs": [],
   "source": [
    "# Manipuluer la colonne avec la fonction apply\n",
    "# Ajouter 1000 au données de la colonne amount\n",
    "# apply prend en parametre une fonction ou une lambda expression\n",
    "dataframe['amount'].apply(lambda x: x+1000)\n",
    "\n",
    "def increment_thousands(x):\n",
    "    return x + 1000"
   ]
  },
  {
   "cell_type": "code",
   "execution_count": 114,
   "metadata": {},
   "outputs": [
    {
     "data": {
      "text/plain": [
       "0     1044.16\n",
       "1     1092.54\n",
       "2     1001.88\n",
       "3     1002.68\n",
       "4     1032.80\n",
       "5     1028.43\n",
       "6     1047.63\n",
       "7     1082.24\n",
       "8     1038.37\n",
       "9     1023.51\n",
       "10    1074.46\n",
       "11    1091.20\n",
       "12    1004.34\n",
       "13    1078.58\n",
       "14    1017.44\n",
       "15    1012.13\n",
       "16    1063.02\n",
       "17    1045.48\n",
       "18    1024.05\n",
       "19    1018.43\n",
       "20    1026.40\n",
       "21    1002.89\n",
       "22    1022.15\n",
       "23    1002.17\n",
       "24    1095.04\n",
       "25    1075.51\n",
       "26    1000.48\n",
       "27    1025.91\n",
       "28    1005.55\n",
       "29    1017.03\n",
       "Name: amount, dtype: float64"
      ]
     },
     "execution_count": 114,
     "metadata": {},
     "output_type": "execute_result"
    }
   ],
   "source": [
    "dataframe['amount'].apply(increment_thousands)\n"
   ]
  },
  {
   "cell_type": "code",
   "execution_count": 115,
   "metadata": {},
   "outputs": [
    {
     "data": {
      "text/plain": [
       "[0, 2, 4]"
      ]
     },
     "execution_count": 115,
     "metadata": {},
     "output_type": "execute_result"
    }
   ],
   "source": [
    "# Utilisation de filter\n",
    "# Faire un filtrage\n",
    "LIST = [0, 2, 3, 4]\n",
    "\n",
    "def filtering(x):\n",
    "    return x % 2 == 0\n",
    "\n",
    "list(filter(filtering, LIST))\n"
   ]
  },
  {
   "cell_type": "code",
   "execution_count": 116,
   "metadata": {},
   "outputs": [
    {
     "data": {
      "text/plain": [
       "[0, 4, 9, 16]"
      ]
     },
     "execution_count": 116,
     "metadata": {},
     "output_type": "execute_result"
    }
   ],
   "source": [
    "# Utilisation de map\n",
    "# Retourne un nouvel iterable\n",
    "LIST = [0, 2, 3, 4]\n",
    "\n",
    "\n",
    "def mapping(x):\n",
    "    return x**2\n",
    "\n",
    "\n",
    "list(map(mapping, LIST))\n"
   ]
  },
  {
   "cell_type": "code",
   "execution_count": 117,
   "metadata": {},
   "outputs": [],
   "source": [
    "dataframe['amount'] = dataframe['amount'].apply(increment_thousands)\n"
   ]
  },
  {
   "cell_type": "code",
   "execution_count": 118,
   "metadata": {},
   "outputs": [
    {
     "data": {
      "text/html": [
       "<div>\n",
       "<style scoped>\n",
       "    .dataframe tbody tr th:only-of-type {\n",
       "        vertical-align: middle;\n",
       "    }\n",
       "\n",
       "    .dataframe tbody tr th {\n",
       "        vertical-align: top;\n",
       "    }\n",
       "\n",
       "    .dataframe thead th {\n",
       "        text-align: right;\n",
       "    }\n",
       "</style>\n",
       "<table border=\"1\" class=\"dataframe\">\n",
       "  <thead>\n",
       "    <tr style=\"text-align: right;\">\n",
       "      <th></th>\n",
       "      <th>name</th>\n",
       "      <th>email</th>\n",
       "      <th>address</th>\n",
       "      <th>country</th>\n",
       "      <th>region</th>\n",
       "      <th>currency</th>\n",
       "      <th>amount</th>\n",
       "    </tr>\n",
       "  </thead>\n",
       "  <tbody>\n",
       "    <tr>\n",
       "      <th>1</th>\n",
       "      <td>India Newman</td>\n",
       "      <td>vel.venenatis@icloud.couk</td>\n",
       "      <td>2125 Sed Street</td>\n",
       "      <td>China</td>\n",
       "      <td>Henegouwen</td>\n",
       "      <td>$92.54</td>\n",
       "      <td>1092.54</td>\n",
       "    </tr>\n",
       "    <tr>\n",
       "      <th>7</th>\n",
       "      <td>Kirestin Kramer</td>\n",
       "      <td>aliquet.molestie.tellus@aol.edu</td>\n",
       "      <td>1495 Id, Rd.</td>\n",
       "      <td>Poland</td>\n",
       "      <td>Namen</td>\n",
       "      <td>$82.24</td>\n",
       "      <td>1082.24</td>\n",
       "    </tr>\n",
       "    <tr>\n",
       "      <th>10</th>\n",
       "      <td>Scarlett Hester</td>\n",
       "      <td>dui.suspendisse@google.org</td>\n",
       "      <td>824-2407 Nisi Street</td>\n",
       "      <td>Peru</td>\n",
       "      <td>Moscow Oblast</td>\n",
       "      <td>$74.46</td>\n",
       "      <td>1074.46</td>\n",
       "    </tr>\n",
       "    <tr>\n",
       "      <th>11</th>\n",
       "      <td>Fritz Meyers</td>\n",
       "      <td>lectus.nullam.suscipit@outlook.edu</td>\n",
       "      <td>P.O. Box 502, 7825 A, Avenue</td>\n",
       "      <td>New Zealand</td>\n",
       "      <td>Nord-Pas-de-Calais</td>\n",
       "      <td>$91.20</td>\n",
       "      <td>1091.20</td>\n",
       "    </tr>\n",
       "    <tr>\n",
       "      <th>13</th>\n",
       "      <td>Hedda Prince</td>\n",
       "      <td>sem@aol.net</td>\n",
       "      <td>126 Sit Rd.</td>\n",
       "      <td>Peru</td>\n",
       "      <td>Møre og Romsdal</td>\n",
       "      <td>$78.58</td>\n",
       "      <td>1078.58</td>\n",
       "    </tr>\n",
       "  </tbody>\n",
       "</table>\n",
       "</div>"
      ],
      "text/plain": [
       "               name                               email  \\\n",
       "1      India Newman           vel.venenatis@icloud.couk   \n",
       "7   Kirestin Kramer     aliquet.molestie.tellus@aol.edu   \n",
       "10  Scarlett Hester          dui.suspendisse@google.org   \n",
       "11     Fritz Meyers  lectus.nullam.suscipit@outlook.edu   \n",
       "13     Hedda Prince                         sem@aol.net   \n",
       "\n",
       "                         address      country              region currency  \\\n",
       "1                2125 Sed Street        China          Henegouwen   $92.54   \n",
       "7                   1495 Id, Rd.       Poland               Namen   $82.24   \n",
       "10          824-2407 Nisi Street         Peru       Moscow Oblast   $74.46   \n",
       "11  P.O. Box 502, 7825 A, Avenue  New Zealand  Nord-Pas-de-Calais   $91.20   \n",
       "13                   126 Sit Rd.         Peru     Møre og Romsdal   $78.58   \n",
       "\n",
       "     amount  \n",
       "1   1092.54  \n",
       "7   1082.24  \n",
       "10  1074.46  \n",
       "11  1091.20  \n",
       "13  1078.58  "
      ]
     },
     "execution_count": 118,
     "metadata": {},
     "output_type": "execute_result"
    }
   ],
   "source": [
    "# Faire un filtrage sur la colonne amount\n",
    "dataframe[dataframe['amount'] > 1050][0:5]\n"
   ]
  },
  {
   "cell_type": "code",
   "execution_count": 119,
   "metadata": {},
   "outputs": [
    {
     "data": {
      "text/plain": [
       "name                  Chadwick Nguyen\n",
       "email       nec.ligula@protonmail.edu\n",
       "address             Ap 466-2636 A Rd.\n",
       "country                       Germany\n",
       "region                          Texas\n",
       "currency                       $44.16\n",
       "amount                        1044.16\n",
       "Name: 0, dtype: object"
      ]
     },
     "execution_count": 119,
     "metadata": {},
     "output_type": "execute_result"
    }
   ],
   "source": [
    "# Afficher la première ligne\n",
    "dataframe.iloc[0]\n"
   ]
  },
  {
   "cell_type": "code",
   "execution_count": 120,
   "metadata": {},
   "outputs": [
    {
     "data": {
      "text/html": [
       "<div>\n",
       "<style scoped>\n",
       "    .dataframe tbody tr th:only-of-type {\n",
       "        vertical-align: middle;\n",
       "    }\n",
       "\n",
       "    .dataframe tbody tr th {\n",
       "        vertical-align: top;\n",
       "    }\n",
       "\n",
       "    .dataframe thead th {\n",
       "        text-align: right;\n",
       "    }\n",
       "</style>\n",
       "<table border=\"1\" class=\"dataframe\">\n",
       "  <thead>\n",
       "    <tr style=\"text-align: right;\">\n",
       "      <th></th>\n",
       "      <th>name</th>\n",
       "      <th>email</th>\n",
       "      <th>address</th>\n",
       "      <th>country</th>\n",
       "      <th>region</th>\n",
       "      <th>currency</th>\n",
       "      <th>amount</th>\n",
       "    </tr>\n",
       "  </thead>\n",
       "  <tbody>\n",
       "    <tr>\n",
       "      <th>0</th>\n",
       "      <td>Chadwick Nguyen</td>\n",
       "      <td>nec.ligula@protonmail.edu</td>\n",
       "      <td>Ap 466-2636 A Rd.</td>\n",
       "      <td>Germany</td>\n",
       "      <td>Texas</td>\n",
       "      <td>$44.16</td>\n",
       "      <td>1044.16</td>\n",
       "    </tr>\n",
       "    <tr>\n",
       "      <th>1</th>\n",
       "      <td>India Newman</td>\n",
       "      <td>vel.venenatis@icloud.couk</td>\n",
       "      <td>2125 Sed Street</td>\n",
       "      <td>China</td>\n",
       "      <td>Henegouwen</td>\n",
       "      <td>$92.54</td>\n",
       "      <td>1092.54</td>\n",
       "    </tr>\n",
       "    <tr>\n",
       "      <th>2</th>\n",
       "      <td>Deborah Chase</td>\n",
       "      <td>lectus.ante@protonmail.org</td>\n",
       "      <td>Ap 601-6030 Eu Av.</td>\n",
       "      <td>New Zealand</td>\n",
       "      <td>łódzkie</td>\n",
       "      <td>$1.88</td>\n",
       "      <td>1001.88</td>\n",
       "    </tr>\n",
       "    <tr>\n",
       "      <th>3</th>\n",
       "      <td>Donna Salazar</td>\n",
       "      <td>mauris@google.org</td>\n",
       "      <td>781-6803 Curabitur St.</td>\n",
       "      <td>Indonesia</td>\n",
       "      <td>Madrid</td>\n",
       "      <td>$2.68</td>\n",
       "      <td>1002.68</td>\n",
       "    </tr>\n",
       "    <tr>\n",
       "      <th>4</th>\n",
       "      <td>Heidi Bennett</td>\n",
       "      <td>ultrices.a.auctor@hotmail.net</td>\n",
       "      <td>326-6406 Natoque Ave</td>\n",
       "      <td>Norway</td>\n",
       "      <td>South Gyeongsang</td>\n",
       "      <td>$32.80</td>\n",
       "      <td>1032.80</td>\n",
       "    </tr>\n",
       "  </tbody>\n",
       "</table>\n",
       "</div>"
      ],
      "text/plain": [
       "              name                          email                 address  \\\n",
       "0  Chadwick Nguyen      nec.ligula@protonmail.edu       Ap 466-2636 A Rd.   \n",
       "1     India Newman      vel.venenatis@icloud.couk         2125 Sed Street   \n",
       "2    Deborah Chase     lectus.ante@protonmail.org      Ap 601-6030 Eu Av.   \n",
       "3    Donna Salazar              mauris@google.org  781-6803 Curabitur St.   \n",
       "4    Heidi Bennett  ultrices.a.auctor@hotmail.net    326-6406 Natoque Ave   \n",
       "\n",
       "       country            region currency   amount  \n",
       "0      Germany             Texas   $44.16  1044.16  \n",
       "1        China        Henegouwen   $92.54  1092.54  \n",
       "2  New Zealand           łódzkie    $1.88  1001.88  \n",
       "3    Indonesia            Madrid    $2.68  1002.68  \n",
       "4       Norway  South Gyeongsang   $32.80  1032.80  "
      ]
     },
     "execution_count": 120,
     "metadata": {},
     "output_type": "execute_result"
    }
   ],
   "source": [
    "# Afficher un esnsemble de ligne avec iloc\n",
    "# Afficher les cinq première lignes\n",
    "dataframe.iloc[0:5]\n"
   ]
  },
  {
   "cell_type": "code",
   "execution_count": 121,
   "metadata": {},
   "outputs": [
    {
     "name": "stdout",
     "output_type": "stream",
     "text": [
      "name                  Chadwick Nguyen\n",
      "email       nec.ligula@protonmail.edu\n",
      "address             Ap 466-2636 A Rd.\n",
      "country                       Germany\n",
      "region                          Texas\n",
      "currency                       $44.16\n",
      "amount                        1044.16\n",
      "Name: 0, dtype: object\n",
      "name                     India Newman\n",
      "email       vel.venenatis@icloud.couk\n",
      "address               2125 Sed Street\n",
      "country                         China\n",
      "region                     Henegouwen\n",
      "currency                       $92.54\n",
      "amount                        1092.54\n",
      "Name: 1, dtype: object\n",
      "name                     Deborah Chase\n",
      "email       lectus.ante@protonmail.org\n",
      "address             Ap 601-6030 Eu Av.\n",
      "country                    New Zealand\n",
      "region                         łódzkie\n",
      "currency                         $1.88\n",
      "amount                         1001.88\n",
      "Name: 2, dtype: object\n",
      "name                 Donna Salazar\n",
      "email            mauris@google.org\n",
      "address     781-6803 Curabitur St.\n",
      "country                  Indonesia\n",
      "region                      Madrid\n",
      "currency                     $2.68\n",
      "amount                     1002.68\n",
      "Name: 3, dtype: object\n",
      "name                        Heidi Bennett\n",
      "email       ultrices.a.auctor@hotmail.net\n",
      "address              326-6406 Natoque Ave\n",
      "country                            Norway\n",
      "region                   South Gyeongsang\n",
      "currency                           $32.80\n",
      "amount                             1032.8\n",
      "Name: 4, dtype: object\n",
      "name                      Hyacinth Bauer\n",
      "email       urna.suscipit@protonmail.com\n",
      "address                601-916 Ante, Rd.\n",
      "country               Russian Federation\n",
      "region                             Cusco\n",
      "currency                          $28.43\n",
      "amount                           1028.43\n",
      "Name: 5, dtype: object\n",
      "name              Forrest Sweeney\n",
      "email       commodo.ipsum@aol.edu\n",
      "address            5500 Ut Avenue\n",
      "country                    Canada\n",
      "region            Novgorod Oblast\n",
      "currency                   $47.63\n",
      "amount                    1047.63\n",
      "Name: 6, dtype: object\n",
      "name                        Kirestin Kramer\n",
      "email       aliquet.molestie.tellus@aol.edu\n",
      "address                        1495 Id, Rd.\n",
      "country                              Poland\n",
      "region                                Namen\n",
      "currency                             $82.24\n",
      "amount                              1082.24\n",
      "Name: 7, dtype: object\n",
      "name                       Grant George\n",
      "email                  felis@google.org\n",
      "address     508-5183 Suspendisse Avenue\n",
      "country                       Australia\n",
      "region             Comunitat Valenciana\n",
      "currency                         $38.37\n",
      "amount                          1038.37\n",
      "Name: 8, dtype: object\n",
      "name                   Shaeleigh Le\n",
      "email          quisque@hotmail.couk\n",
      "address     Ap 600-3443 Dictum. St.\n",
      "country                     Ireland\n",
      "region         Västra Götalands län\n",
      "currency                     $23.51\n",
      "amount                      1023.51\n",
      "Name: 9, dtype: object\n",
      "name                   Scarlett Hester\n",
      "email       dui.suspendisse@google.org\n",
      "address           824-2407 Nisi Street\n",
      "country                           Peru\n",
      "region                   Moscow Oblast\n",
      "currency                        $74.46\n",
      "amount                         1074.46\n",
      "Name: 10, dtype: object\n",
      "name                              Fritz Meyers\n",
      "email       lectus.nullam.suscipit@outlook.edu\n",
      "address           P.O. Box 502, 7825 A, Avenue\n",
      "country                            New Zealand\n",
      "region                      Nord-Pas-de-Calais\n",
      "currency                                $91.20\n",
      "amount                                  1091.2\n",
      "Name: 11, dtype: object\n",
      "name                              Amanda Myers\n",
      "email       consectetuer.adipiscing@google.net\n",
      "address           P.O. Box 764, 2041 Etiam St.\n",
      "country                                  Italy\n",
      "region                                Rogaland\n",
      "currency                                 $4.34\n",
      "amount                                 1004.34\n",
      "Name: 12, dtype: object\n",
      "name           Hedda Prince\n",
      "email           sem@aol.net\n",
      "address         126 Sit Rd.\n",
      "country                Peru\n",
      "region      Møre og Romsdal\n",
      "currency             $78.58\n",
      "amount              1078.58\n",
      "Name: 13, dtype: object\n",
      "name                 Madonna Garner\n",
      "email       orci.donec@outlook.couk\n",
      "address        Ap 932-2288 Nunc Rd.\n",
      "country                       Italy\n",
      "region                      Antalya\n",
      "currency                     $17.44\n",
      "amount                      1017.44\n",
      "Name: 14, dtype: object\n",
      "name                       Tanek Larson\n",
      "email       a.mi.fringilla@hotmail.couk\n",
      "address              369-9250 Et Street\n",
      "country                         Germany\n",
      "region                  Oost-Vlaanderen\n",
      "currency                         $12.13\n",
      "amount                          1012.13\n",
      "Name: 15, dtype: object\n",
      "name                    Shad Petersen\n",
      "email       orci.consectetuer@aol.net\n",
      "address              134-4184 Leo Av.\n",
      "country                        Mexico\n",
      "region                          Xīběi\n",
      "currency                       $63.02\n",
      "amount                        1063.02\n",
      "Name: 16, dtype: object\n",
      "name                 Calista Dickerson\n",
      "email       posuere.at.velit@yahoo.com\n",
      "address          Ap 697-8084 Enim. Rd.\n",
      "country                          Italy\n",
      "region                 Haute-Normandie\n",
      "currency                        $45.48\n",
      "amount                         1045.48\n",
      "Name: 17, dtype: object\n",
      "name                      Cairo Herman\n",
      "email        nulla.tincidunt@google.ca\n",
      "address     P.O. Box 959, 7154 Id, St.\n",
      "country                    Netherlands\n",
      "region                    North Island\n",
      "currency                        $24.05\n",
      "amount                         1024.05\n",
      "Name: 18, dtype: object\n",
      "name                          Sierra Suarez\n",
      "email       ultricies.adipiscing@yahoo.couk\n",
      "address          P.O. Box 749, 7060 Cum Av.\n",
      "country                            Pakistan\n",
      "region                           Mpumalanga\n",
      "currency                             $18.43\n",
      "amount                              1018.43\n",
      "Name: 19, dtype: object\n",
      "name               Nash Herring\n",
      "email       quisque@outlook.edu\n",
      "address       991-5819 Ante Rd.\n",
      "country                   Chile\n",
      "region          South Australia\n",
      "currency                 $26.40\n",
      "amount                   1026.4\n",
      "Name: 20, dtype: object\n",
      "name                     Ingrid Doyle\n",
      "email       phasellus.at@outlook.couk\n",
      "address             192 Magna. Avenue\n",
      "country            Russian Federation\n",
      "region               Poitou-Charentes\n",
      "currency                        $2.89\n",
      "amount                        1002.89\n",
      "Name: 21, dtype: object\n",
      "name                  Kim Brock\n",
      "email        non.dapibus@aol.ca\n",
      "address     654-8001 Semper Ave\n",
      "country               Indonesia\n",
      "region           Cagayan Valley\n",
      "currency                 $22.15\n",
      "amount                  1022.15\n",
      "Name: 22, dtype: object\n",
      "name               Harlan Baker\n",
      "email        sit@protonmail.org\n",
      "address     6090 Vulputate, St.\n",
      "country                  France\n",
      "region                Antwerpen\n",
      "currency                  $2.17\n",
      "amount                  1002.17\n",
      "Name: 23, dtype: object\n",
      "name                           Lester Olsen\n",
      "email       dolor.quam.elementum@icloud.net\n",
      "address                    968-2002 Sed Ave\n",
      "country                             Ireland\n",
      "region                 Comunitat Valenciana\n",
      "currency                             $95.04\n",
      "amount                              1095.04\n",
      "Name: 24, dtype: object\n",
      "name             Jeanette Duran\n",
      "email       orci.sem@icloud.com\n",
      "address         9805 Mollis St.\n",
      "country               Australia\n",
      "region                Magdalena\n",
      "currency                 $75.51\n",
      "amount                  1075.51\n",
      "Name: 25, dtype: object\n",
      "name                          Tobias Key\n",
      "email       in.faucibus.orci@icloud.couk\n",
      "address       P.O. Box 256, 8876 Sed Ave\n",
      "country                           Sweden\n",
      "region                   New South Wales\n",
      "currency                           $0.48\n",
      "amount                           1000.48\n",
      "Name: 26, dtype: object\n",
      "name                     George Avila\n",
      "email       et.rutrum@protonmail.couk\n",
      "address         Ap 284-5000 Orci. Ave\n",
      "country                   South Korea\n",
      "region                 Kherson oblast\n",
      "currency                       $25.91\n",
      "amount                        1025.91\n",
      "Name: 27, dtype: object\n",
      "name                        Alvin Vaughan\n",
      "email       class.aptent.taciti@yahoo.org\n",
      "address           384-5221 Quisque Street\n",
      "country                            Poland\n",
      "region                              Aisén\n",
      "currency                            $5.55\n",
      "amount                            1005.55\n",
      "Name: 28, dtype: object\n",
      "name               Justin Bright\n",
      "email          pede.nec@yahoo.ca\n",
      "address     334-4843 Magna. Road\n",
      "country                   Mexico\n",
      "region                     Sucre\n",
      "currency                  $17.03\n",
      "amount                   1017.03\n",
      "Name: 29, dtype: object\n"
     ]
    }
   ],
   "source": [
    "# Iterer sur l'ensemble des lignes avec itterrows()\n",
    "for index, rows in dataframe.iterrows():\n",
    "    print(rows)"
   ]
  },
  {
   "cell_type": "code",
   "execution_count": 122,
   "metadata": {},
   "outputs": [
    {
     "name": "stdout",
     "output_type": "stream",
     "text": [
      "name                  Chadwick Nguyen\n",
      "email       nec.ligula@protonmail.edu\n",
      "address             Ap 466-2636 A Rd.\n",
      "country                       Germany\n",
      "region                          Texas\n",
      "currency                       $44.16\n",
      "amount                        1044.16\n",
      "Name: 0, dtype: object\n",
      "name                     India Newman\n",
      "email       vel.venenatis@icloud.couk\n",
      "address               2125 Sed Street\n",
      "country                         China\n",
      "region                     Henegouwen\n",
      "currency                       $92.54\n",
      "amount                        1092.54\n",
      "Name: 1, dtype: object\n",
      "name                     Deborah Chase\n",
      "email       lectus.ante@protonmail.org\n",
      "address             Ap 601-6030 Eu Av.\n",
      "country                    New Zealand\n",
      "region                         łódzkie\n",
      "currency                         $1.88\n",
      "amount                         1001.88\n",
      "Name: 2, dtype: object\n",
      "name                 Donna Salazar\n",
      "email            mauris@google.org\n",
      "address     781-6803 Curabitur St.\n",
      "country                  Indonesia\n",
      "region                      Madrid\n",
      "currency                     $2.68\n",
      "amount                     1002.68\n",
      "Name: 3, dtype: object\n",
      "name                        Heidi Bennett\n",
      "email       ultrices.a.auctor@hotmail.net\n",
      "address              326-6406 Natoque Ave\n",
      "country                            Norway\n",
      "region                   South Gyeongsang\n",
      "currency                           $32.80\n",
      "amount                             1032.8\n",
      "Name: 4, dtype: object\n",
      "name                      Hyacinth Bauer\n",
      "email       urna.suscipit@protonmail.com\n",
      "address                601-916 Ante, Rd.\n",
      "country               Russian Federation\n",
      "region                             Cusco\n",
      "currency                          $28.43\n",
      "amount                           1028.43\n",
      "Name: 5, dtype: object\n",
      "name              Forrest Sweeney\n",
      "email       commodo.ipsum@aol.edu\n",
      "address            5500 Ut Avenue\n",
      "country                    Canada\n",
      "region            Novgorod Oblast\n",
      "currency                   $47.63\n",
      "amount                    1047.63\n",
      "Name: 6, dtype: object\n",
      "name                        Kirestin Kramer\n",
      "email       aliquet.molestie.tellus@aol.edu\n",
      "address                        1495 Id, Rd.\n",
      "country                              Poland\n",
      "region                                Namen\n",
      "currency                             $82.24\n",
      "amount                              1082.24\n",
      "Name: 7, dtype: object\n",
      "name                       Grant George\n",
      "email                  felis@google.org\n",
      "address     508-5183 Suspendisse Avenue\n",
      "country                       Australia\n",
      "region             Comunitat Valenciana\n",
      "currency                         $38.37\n",
      "amount                          1038.37\n",
      "Name: 8, dtype: object\n",
      "name                   Shaeleigh Le\n",
      "email          quisque@hotmail.couk\n",
      "address     Ap 600-3443 Dictum. St.\n",
      "country                     Ireland\n",
      "region         Västra Götalands län\n",
      "currency                     $23.51\n",
      "amount                      1023.51\n",
      "Name: 9, dtype: object\n",
      "name                   Scarlett Hester\n",
      "email       dui.suspendisse@google.org\n",
      "address           824-2407 Nisi Street\n",
      "country                           Peru\n",
      "region                   Moscow Oblast\n",
      "currency                        $74.46\n",
      "amount                         1074.46\n",
      "Name: 10, dtype: object\n",
      "name                              Fritz Meyers\n",
      "email       lectus.nullam.suscipit@outlook.edu\n",
      "address           P.O. Box 502, 7825 A, Avenue\n",
      "country                            New Zealand\n",
      "region                      Nord-Pas-de-Calais\n",
      "currency                                $91.20\n",
      "amount                                  1091.2\n",
      "Name: 11, dtype: object\n",
      "name                              Amanda Myers\n",
      "email       consectetuer.adipiscing@google.net\n",
      "address           P.O. Box 764, 2041 Etiam St.\n",
      "country                                  Italy\n",
      "region                                Rogaland\n",
      "currency                                 $4.34\n",
      "amount                                 1004.34\n",
      "Name: 12, dtype: object\n",
      "name           Hedda Prince\n",
      "email           sem@aol.net\n",
      "address         126 Sit Rd.\n",
      "country                Peru\n",
      "region      Møre og Romsdal\n",
      "currency             $78.58\n",
      "amount              1078.58\n",
      "Name: 13, dtype: object\n",
      "name                 Madonna Garner\n",
      "email       orci.donec@outlook.couk\n",
      "address        Ap 932-2288 Nunc Rd.\n",
      "country                       Italy\n",
      "region                      Antalya\n",
      "currency                     $17.44\n",
      "amount                      1017.44\n",
      "Name: 14, dtype: object\n",
      "name                       Tanek Larson\n",
      "email       a.mi.fringilla@hotmail.couk\n",
      "address              369-9250 Et Street\n",
      "country                         Germany\n",
      "region                  Oost-Vlaanderen\n",
      "currency                         $12.13\n",
      "amount                          1012.13\n",
      "Name: 15, dtype: object\n",
      "name                    Shad Petersen\n",
      "email       orci.consectetuer@aol.net\n",
      "address              134-4184 Leo Av.\n",
      "country                        Mexico\n",
      "region                          Xīběi\n",
      "currency                       $63.02\n",
      "amount                        1063.02\n",
      "Name: 16, dtype: object\n",
      "name                 Calista Dickerson\n",
      "email       posuere.at.velit@yahoo.com\n",
      "address          Ap 697-8084 Enim. Rd.\n",
      "country                          Italy\n",
      "region                 Haute-Normandie\n",
      "currency                        $45.48\n",
      "amount                         1045.48\n",
      "Name: 17, dtype: object\n",
      "name                      Cairo Herman\n",
      "email        nulla.tincidunt@google.ca\n",
      "address     P.O. Box 959, 7154 Id, St.\n",
      "country                    Netherlands\n",
      "region                    North Island\n",
      "currency                        $24.05\n",
      "amount                         1024.05\n",
      "Name: 18, dtype: object\n",
      "name                          Sierra Suarez\n",
      "email       ultricies.adipiscing@yahoo.couk\n",
      "address          P.O. Box 749, 7060 Cum Av.\n",
      "country                            Pakistan\n",
      "region                           Mpumalanga\n",
      "currency                             $18.43\n",
      "amount                              1018.43\n",
      "Name: 19, dtype: object\n",
      "name               Nash Herring\n",
      "email       quisque@outlook.edu\n",
      "address       991-5819 Ante Rd.\n",
      "country                   Chile\n",
      "region          South Australia\n",
      "currency                 $26.40\n",
      "amount                   1026.4\n",
      "Name: 20, dtype: object\n",
      "name                     Ingrid Doyle\n",
      "email       phasellus.at@outlook.couk\n",
      "address             192 Magna. Avenue\n",
      "country            Russian Federation\n",
      "region               Poitou-Charentes\n",
      "currency                        $2.89\n",
      "amount                        1002.89\n",
      "Name: 21, dtype: object\n",
      "name                  Kim Brock\n",
      "email        non.dapibus@aol.ca\n",
      "address     654-8001 Semper Ave\n",
      "country               Indonesia\n",
      "region           Cagayan Valley\n",
      "currency                 $22.15\n",
      "amount                  1022.15\n",
      "Name: 22, dtype: object\n",
      "name               Harlan Baker\n",
      "email        sit@protonmail.org\n",
      "address     6090 Vulputate, St.\n",
      "country                  France\n",
      "region                Antwerpen\n",
      "currency                  $2.17\n",
      "amount                  1002.17\n",
      "Name: 23, dtype: object\n",
      "name                           Lester Olsen\n",
      "email       dolor.quam.elementum@icloud.net\n",
      "address                    968-2002 Sed Ave\n",
      "country                             Ireland\n",
      "region                 Comunitat Valenciana\n",
      "currency                             $95.04\n",
      "amount                              1095.04\n",
      "Name: 24, dtype: object\n",
      "name             Jeanette Duran\n",
      "email       orci.sem@icloud.com\n",
      "address         9805 Mollis St.\n",
      "country               Australia\n",
      "region                Magdalena\n",
      "currency                 $75.51\n",
      "amount                  1075.51\n",
      "Name: 25, dtype: object\n",
      "name                          Tobias Key\n",
      "email       in.faucibus.orci@icloud.couk\n",
      "address       P.O. Box 256, 8876 Sed Ave\n",
      "country                           Sweden\n",
      "region                   New South Wales\n",
      "currency                           $0.48\n",
      "amount                           1000.48\n",
      "Name: 26, dtype: object\n",
      "name                     George Avila\n",
      "email       et.rutrum@protonmail.couk\n",
      "address         Ap 284-5000 Orci. Ave\n",
      "country                   South Korea\n",
      "region                 Kherson oblast\n",
      "currency                       $25.91\n",
      "amount                        1025.91\n",
      "Name: 27, dtype: object\n",
      "name                        Alvin Vaughan\n",
      "email       class.aptent.taciti@yahoo.org\n",
      "address           384-5221 Quisque Street\n",
      "country                            Poland\n",
      "region                              Aisén\n",
      "currency                            $5.55\n",
      "amount                            1005.55\n",
      "Name: 28, dtype: object\n",
      "name               Justin Bright\n",
      "email          pede.nec@yahoo.ca\n",
      "address     334-4843 Magna. Road\n",
      "country                   Mexico\n",
      "region                     Sucre\n",
      "currency                  $17.03\n",
      "amount                   1017.03\n",
      "Name: 29, dtype: object\n"
     ]
    }
   ],
   "source": [
    "for index, rows in dataframe.iterrows():\n",
    "    print(rows)\n"
   ]
  },
  {
   "cell_type": "code",
   "execution_count": 123,
   "metadata": {},
   "outputs": [
    {
     "data": {
      "text/plain": [
       "name                   Scarlett Hester\n",
       "email       dui.suspendisse@google.org\n",
       "address           824-2407 Nisi Street\n",
       "country                           Peru\n",
       "region                   Moscow Oblast\n",
       "currency                        $74.46\n",
       "amount                         1074.46\n",
       "Name: 10, dtype: object"
      ]
     },
     "execution_count": 123,
     "metadata": {},
     "output_type": "execute_result"
    }
   ],
   "source": [
    "# Utiliser la fonction iloc[index], avec index numero de ligne\n",
    "dataframe.iloc[10]"
   ]
  },
  {
   "cell_type": "code",
   "execution_count": 124,
   "metadata": {},
   "outputs": [
    {
     "data": {
      "text/plain": [
       "name                  Chadwick Nguyen\n",
       "email       nec.ligula@protonmail.edu\n",
       "address             Ap 466-2636 A Rd.\n",
       "country                       Germany\n",
       "region                          Texas\n",
       "currency                       $44.16\n",
       "amount                        1044.16\n",
       "Name: 0, dtype: object"
      ]
     },
     "execution_count": 124,
     "metadata": {},
     "output_type": "execute_result"
    }
   ],
   "source": [
    "# Utiliser la fonction loc[index], avec index numero de ligne\n",
    "dataframe.loc[0]\n"
   ]
  },
  {
   "cell_type": "code",
   "execution_count": 125,
   "metadata": {},
   "outputs": [
    {
     "data": {
      "text/plain": [
       "'Scarlett Hester'"
      ]
     },
     "execution_count": 125,
     "metadata": {},
     "output_type": "execute_result"
    }
   ],
   "source": [
    "# Afficher le nom de la premier ligne\n",
    "dataframe.iloc[10]['name']"
   ]
  },
  {
   "cell_type": "code",
   "execution_count": 126,
   "metadata": {},
   "outputs": [
    {
     "data": {
      "text/plain": [
       "1074.46"
      ]
     },
     "execution_count": 126,
     "metadata": {},
     "output_type": "execute_result"
    }
   ],
   "source": [
    "# Afficher le amount de la premier ligne\n",
    "dataframe.iloc[10]['amount']\n"
   ]
  },
  {
   "cell_type": "code",
   "execution_count": 127,
   "metadata": {},
   "outputs": [
    {
     "data": {
      "text/plain": [
       "'dui.suspendisse@google.org'"
      ]
     },
     "execution_count": 127,
     "metadata": {},
     "output_type": "execute_result"
    }
   ],
   "source": [
    "# Afficher le email de la premier ligne\n",
    "dataframe.iloc[10]['email']\n"
   ]
  },
  {
   "cell_type": "code",
   "execution_count": 128,
   "metadata": {},
   "outputs": [
    {
     "data": {
      "text/plain": [
       "(30, 7)"
      ]
     },
     "execution_count": 128,
     "metadata": {},
     "output_type": "execute_result"
    }
   ],
   "source": [
    "dataframe.shape"
   ]
  },
  {
   "cell_type": "code",
   "execution_count": 132,
   "metadata": {},
   "outputs": [],
   "source": [
    "# Ajouter une colonne devise\n",
    "\n",
    "dataframe['devise'] = 'USD'"
   ]
  },
  {
   "cell_type": "code",
   "execution_count": 133,
   "metadata": {},
   "outputs": [
    {
     "data": {
      "text/html": [
       "<div>\n",
       "<style scoped>\n",
       "    .dataframe tbody tr th:only-of-type {\n",
       "        vertical-align: middle;\n",
       "    }\n",
       "\n",
       "    .dataframe tbody tr th {\n",
       "        vertical-align: top;\n",
       "    }\n",
       "\n",
       "    .dataframe thead th {\n",
       "        text-align: right;\n",
       "    }\n",
       "</style>\n",
       "<table border=\"1\" class=\"dataframe\">\n",
       "  <thead>\n",
       "    <tr style=\"text-align: right;\">\n",
       "      <th></th>\n",
       "      <th>name</th>\n",
       "      <th>email</th>\n",
       "      <th>address</th>\n",
       "      <th>country</th>\n",
       "      <th>region</th>\n",
       "      <th>currency</th>\n",
       "      <th>amount</th>\n",
       "      <th>devise</th>\n",
       "    </tr>\n",
       "  </thead>\n",
       "  <tbody>\n",
       "    <tr>\n",
       "      <th>0</th>\n",
       "      <td>Chadwick Nguyen</td>\n",
       "      <td>nec.ligula@protonmail.edu</td>\n",
       "      <td>Ap 466-2636 A Rd.</td>\n",
       "      <td>Germany</td>\n",
       "      <td>Texas</td>\n",
       "      <td>$44.16</td>\n",
       "      <td>1044.16</td>\n",
       "      <td>USD</td>\n",
       "    </tr>\n",
       "    <tr>\n",
       "      <th>1</th>\n",
       "      <td>India Newman</td>\n",
       "      <td>vel.venenatis@icloud.couk</td>\n",
       "      <td>2125 Sed Street</td>\n",
       "      <td>China</td>\n",
       "      <td>Henegouwen</td>\n",
       "      <td>$92.54</td>\n",
       "      <td>1092.54</td>\n",
       "      <td>USD</td>\n",
       "    </tr>\n",
       "    <tr>\n",
       "      <th>2</th>\n",
       "      <td>Deborah Chase</td>\n",
       "      <td>lectus.ante@protonmail.org</td>\n",
       "      <td>Ap 601-6030 Eu Av.</td>\n",
       "      <td>New Zealand</td>\n",
       "      <td>łódzkie</td>\n",
       "      <td>$1.88</td>\n",
       "      <td>1001.88</td>\n",
       "      <td>USD</td>\n",
       "    </tr>\n",
       "    <tr>\n",
       "      <th>3</th>\n",
       "      <td>Donna Salazar</td>\n",
       "      <td>mauris@google.org</td>\n",
       "      <td>781-6803 Curabitur St.</td>\n",
       "      <td>Indonesia</td>\n",
       "      <td>Madrid</td>\n",
       "      <td>$2.68</td>\n",
       "      <td>1002.68</td>\n",
       "      <td>USD</td>\n",
       "    </tr>\n",
       "    <tr>\n",
       "      <th>4</th>\n",
       "      <td>Heidi Bennett</td>\n",
       "      <td>ultrices.a.auctor@hotmail.net</td>\n",
       "      <td>326-6406 Natoque Ave</td>\n",
       "      <td>Norway</td>\n",
       "      <td>South Gyeongsang</td>\n",
       "      <td>$32.80</td>\n",
       "      <td>1032.80</td>\n",
       "      <td>USD</td>\n",
       "    </tr>\n",
       "  </tbody>\n",
       "</table>\n",
       "</div>"
      ],
      "text/plain": [
       "              name                          email                 address  \\\n",
       "0  Chadwick Nguyen      nec.ligula@protonmail.edu       Ap 466-2636 A Rd.   \n",
       "1     India Newman      vel.venenatis@icloud.couk         2125 Sed Street   \n",
       "2    Deborah Chase     lectus.ante@protonmail.org      Ap 601-6030 Eu Av.   \n",
       "3    Donna Salazar              mauris@google.org  781-6803 Curabitur St.   \n",
       "4    Heidi Bennett  ultrices.a.auctor@hotmail.net    326-6406 Natoque Ave   \n",
       "\n",
       "       country            region currency   amount devise  \n",
       "0      Germany             Texas   $44.16  1044.16    USD  \n",
       "1        China        Henegouwen   $92.54  1092.54    USD  \n",
       "2  New Zealand           łódzkie    $1.88  1001.88    USD  \n",
       "3    Indonesia            Madrid    $2.68  1002.68    USD  \n",
       "4       Norway  South Gyeongsang   $32.80  1032.80    USD  "
      ]
     },
     "execution_count": 133,
     "metadata": {},
     "output_type": "execute_result"
    }
   ],
   "source": [
    "dataframe.head()"
   ]
  },
  {
   "cell_type": "code",
   "execution_count": 134,
   "metadata": {},
   "outputs": [],
   "source": [
    "dataframe['USD'] = dataframe['amount']"
   ]
  },
  {
   "cell_type": "code",
   "execution_count": 135,
   "metadata": {},
   "outputs": [
    {
     "data": {
      "text/html": [
       "<div>\n",
       "<style scoped>\n",
       "    .dataframe tbody tr th:only-of-type {\n",
       "        vertical-align: middle;\n",
       "    }\n",
       "\n",
       "    .dataframe tbody tr th {\n",
       "        vertical-align: top;\n",
       "    }\n",
       "\n",
       "    .dataframe thead th {\n",
       "        text-align: right;\n",
       "    }\n",
       "</style>\n",
       "<table border=\"1\" class=\"dataframe\">\n",
       "  <thead>\n",
       "    <tr style=\"text-align: right;\">\n",
       "      <th></th>\n",
       "      <th>name</th>\n",
       "      <th>email</th>\n",
       "      <th>address</th>\n",
       "      <th>country</th>\n",
       "      <th>region</th>\n",
       "      <th>currency</th>\n",
       "      <th>amount</th>\n",
       "      <th>devise</th>\n",
       "      <th>USD</th>\n",
       "    </tr>\n",
       "  </thead>\n",
       "  <tbody>\n",
       "    <tr>\n",
       "      <th>0</th>\n",
       "      <td>Chadwick Nguyen</td>\n",
       "      <td>nec.ligula@protonmail.edu</td>\n",
       "      <td>Ap 466-2636 A Rd.</td>\n",
       "      <td>Germany</td>\n",
       "      <td>Texas</td>\n",
       "      <td>$44.16</td>\n",
       "      <td>1044.16</td>\n",
       "      <td>USD</td>\n",
       "      <td>1044.16</td>\n",
       "    </tr>\n",
       "    <tr>\n",
       "      <th>1</th>\n",
       "      <td>India Newman</td>\n",
       "      <td>vel.venenatis@icloud.couk</td>\n",
       "      <td>2125 Sed Street</td>\n",
       "      <td>China</td>\n",
       "      <td>Henegouwen</td>\n",
       "      <td>$92.54</td>\n",
       "      <td>1092.54</td>\n",
       "      <td>USD</td>\n",
       "      <td>1092.54</td>\n",
       "    </tr>\n",
       "    <tr>\n",
       "      <th>2</th>\n",
       "      <td>Deborah Chase</td>\n",
       "      <td>lectus.ante@protonmail.org</td>\n",
       "      <td>Ap 601-6030 Eu Av.</td>\n",
       "      <td>New Zealand</td>\n",
       "      <td>łódzkie</td>\n",
       "      <td>$1.88</td>\n",
       "      <td>1001.88</td>\n",
       "      <td>USD</td>\n",
       "      <td>1001.88</td>\n",
       "    </tr>\n",
       "    <tr>\n",
       "      <th>3</th>\n",
       "      <td>Donna Salazar</td>\n",
       "      <td>mauris@google.org</td>\n",
       "      <td>781-6803 Curabitur St.</td>\n",
       "      <td>Indonesia</td>\n",
       "      <td>Madrid</td>\n",
       "      <td>$2.68</td>\n",
       "      <td>1002.68</td>\n",
       "      <td>USD</td>\n",
       "      <td>1002.68</td>\n",
       "    </tr>\n",
       "    <tr>\n",
       "      <th>4</th>\n",
       "      <td>Heidi Bennett</td>\n",
       "      <td>ultrices.a.auctor@hotmail.net</td>\n",
       "      <td>326-6406 Natoque Ave</td>\n",
       "      <td>Norway</td>\n",
       "      <td>South Gyeongsang</td>\n",
       "      <td>$32.80</td>\n",
       "      <td>1032.80</td>\n",
       "      <td>USD</td>\n",
       "      <td>1032.80</td>\n",
       "    </tr>\n",
       "  </tbody>\n",
       "</table>\n",
       "</div>"
      ],
      "text/plain": [
       "              name                          email                 address  \\\n",
       "0  Chadwick Nguyen      nec.ligula@protonmail.edu       Ap 466-2636 A Rd.   \n",
       "1     India Newman      vel.venenatis@icloud.couk         2125 Sed Street   \n",
       "2    Deborah Chase     lectus.ante@protonmail.org      Ap 601-6030 Eu Av.   \n",
       "3    Donna Salazar              mauris@google.org  781-6803 Curabitur St.   \n",
       "4    Heidi Bennett  ultrices.a.auctor@hotmail.net    326-6406 Natoque Ave   \n",
       "\n",
       "       country            region currency   amount devise      USD  \n",
       "0      Germany             Texas   $44.16  1044.16    USD  1044.16  \n",
       "1        China        Henegouwen   $92.54  1092.54    USD  1092.54  \n",
       "2  New Zealand           łódzkie    $1.88  1001.88    USD  1001.88  \n",
       "3    Indonesia            Madrid    $2.68  1002.68    USD  1002.68  \n",
       "4       Norway  South Gyeongsang   $32.80  1032.80    USD  1032.80  "
      ]
     },
     "execution_count": 135,
     "metadata": {},
     "output_type": "execute_result"
    }
   ],
   "source": [
    "dataframe.head()"
   ]
  },
  {
   "cell_type": "code",
   "execution_count": 136,
   "metadata": {},
   "outputs": [],
   "source": [
    "del dataframe['devise']"
   ]
  },
  {
   "cell_type": "code",
   "execution_count": 149,
   "metadata": {},
   "outputs": [],
   "source": [
    "dataframe['XOF'] = 0"
   ]
  },
  {
   "cell_type": "code",
   "execution_count": 150,
   "metadata": {},
   "outputs": [],
   "source": [
    "dataframe['EUR'] = 0"
   ]
  },
  {
   "cell_type": "code",
   "execution_count": 151,
   "metadata": {},
   "outputs": [],
   "source": [
    "# taux de change de USD -> XOF = 610.17"
   ]
  },
  {
   "cell_type": "code",
   "execution_count": 152,
   "metadata": {},
   "outputs": [
    {
     "data": {
      "text/html": [
       "<div>\n",
       "<style scoped>\n",
       "    .dataframe tbody tr th:only-of-type {\n",
       "        vertical-align: middle;\n",
       "    }\n",
       "\n",
       "    .dataframe tbody tr th {\n",
       "        vertical-align: top;\n",
       "    }\n",
       "\n",
       "    .dataframe thead th {\n",
       "        text-align: right;\n",
       "    }\n",
       "</style>\n",
       "<table border=\"1\" class=\"dataframe\">\n",
       "  <thead>\n",
       "    <tr style=\"text-align: right;\">\n",
       "      <th></th>\n",
       "      <th>name</th>\n",
       "      <th>email</th>\n",
       "      <th>address</th>\n",
       "      <th>country</th>\n",
       "      <th>region</th>\n",
       "      <th>currency</th>\n",
       "      <th>amount</th>\n",
       "      <th>USD</th>\n",
       "      <th>XOF</th>\n",
       "      <th>EUR</th>\n",
       "    </tr>\n",
       "  </thead>\n",
       "  <tbody>\n",
       "    <tr>\n",
       "      <th>0</th>\n",
       "      <td>Chadwick Nguyen</td>\n",
       "      <td>nec.ligula@protonmail.edu</td>\n",
       "      <td>Ap 466-2636 A Rd.</td>\n",
       "      <td>Germany</td>\n",
       "      <td>Texas</td>\n",
       "      <td>$44.16</td>\n",
       "      <td>1044.16</td>\n",
       "      <td>1044.16</td>\n",
       "      <td>0</td>\n",
       "      <td>0</td>\n",
       "    </tr>\n",
       "    <tr>\n",
       "      <th>1</th>\n",
       "      <td>India Newman</td>\n",
       "      <td>vel.venenatis@icloud.couk</td>\n",
       "      <td>2125 Sed Street</td>\n",
       "      <td>China</td>\n",
       "      <td>Henegouwen</td>\n",
       "      <td>$92.54</td>\n",
       "      <td>1092.54</td>\n",
       "      <td>1092.54</td>\n",
       "      <td>0</td>\n",
       "      <td>0</td>\n",
       "    </tr>\n",
       "    <tr>\n",
       "      <th>2</th>\n",
       "      <td>Deborah Chase</td>\n",
       "      <td>lectus.ante@protonmail.org</td>\n",
       "      <td>Ap 601-6030 Eu Av.</td>\n",
       "      <td>New Zealand</td>\n",
       "      <td>łódzkie</td>\n",
       "      <td>$1.88</td>\n",
       "      <td>1001.88</td>\n",
       "      <td>1001.88</td>\n",
       "      <td>0</td>\n",
       "      <td>0</td>\n",
       "    </tr>\n",
       "    <tr>\n",
       "      <th>3</th>\n",
       "      <td>Donna Salazar</td>\n",
       "      <td>mauris@google.org</td>\n",
       "      <td>781-6803 Curabitur St.</td>\n",
       "      <td>Indonesia</td>\n",
       "      <td>Madrid</td>\n",
       "      <td>$2.68</td>\n",
       "      <td>1002.68</td>\n",
       "      <td>1002.68</td>\n",
       "      <td>0</td>\n",
       "      <td>0</td>\n",
       "    </tr>\n",
       "    <tr>\n",
       "      <th>4</th>\n",
       "      <td>Heidi Bennett</td>\n",
       "      <td>ultrices.a.auctor@hotmail.net</td>\n",
       "      <td>326-6406 Natoque Ave</td>\n",
       "      <td>Norway</td>\n",
       "      <td>South Gyeongsang</td>\n",
       "      <td>$32.80</td>\n",
       "      <td>1032.80</td>\n",
       "      <td>1032.80</td>\n",
       "      <td>0</td>\n",
       "      <td>0</td>\n",
       "    </tr>\n",
       "  </tbody>\n",
       "</table>\n",
       "</div>"
      ],
      "text/plain": [
       "              name                          email                 address  \\\n",
       "0  Chadwick Nguyen      nec.ligula@protonmail.edu       Ap 466-2636 A Rd.   \n",
       "1     India Newman      vel.venenatis@icloud.couk         2125 Sed Street   \n",
       "2    Deborah Chase     lectus.ante@protonmail.org      Ap 601-6030 Eu Av.   \n",
       "3    Donna Salazar              mauris@google.org  781-6803 Curabitur St.   \n",
       "4    Heidi Bennett  ultrices.a.auctor@hotmail.net    326-6406 Natoque Ave   \n",
       "\n",
       "       country            region currency   amount      USD  XOF  EUR  \n",
       "0      Germany             Texas   $44.16  1044.16  1044.16    0    0  \n",
       "1        China        Henegouwen   $92.54  1092.54  1092.54    0    0  \n",
       "2  New Zealand           łódzkie    $1.88  1001.88  1001.88    0    0  \n",
       "3    Indonesia            Madrid    $2.68  1002.68  1002.68    0    0  \n",
       "4       Norway  South Gyeongsang   $32.80  1032.80  1032.80    0    0  "
      ]
     },
     "execution_count": 152,
     "metadata": {},
     "output_type": "execute_result"
    }
   ],
   "source": [
    "dataframe.head()"
   ]
  },
  {
   "cell_type": "code",
   "execution_count": 153,
   "metadata": {},
   "outputs": [],
   "source": [
    "# Function to convert USD in XOF\n",
    "\n",
    "def convert_to_xof(x):\n",
    "    return x * 610.17\n",
    "\n",
    "dataframe['XOF'] = dataframe['amount'].apply(convert_to_xof)"
   ]
  },
  {
   "cell_type": "code",
   "execution_count": 144,
   "metadata": {},
   "outputs": [
    {
     "data": {
      "text/plain": [
       "0     637115.1072\n",
       "1     666635.1318\n",
       "2     611317.1196\n",
       "3     611805.2556\n",
       "4     630183.5760\n",
       "5     627517.1331\n",
       "6     639232.3971\n",
       "7     660350.3808\n",
       "8     633582.2229\n",
       "9     624515.0967\n",
       "10    655603.2582\n",
       "11    665817.5040\n",
       "12    612818.1378\n",
       "13    658117.1586\n",
       "14    620811.3648\n",
       "15    617571.3621\n",
       "16    648622.9134\n",
       "17    637920.5316\n",
       "18    624844.5885\n",
       "19    621415.4331\n",
       "20    626278.4880\n",
       "21    611933.3913\n",
       "22    623685.2655\n",
       "23    611494.0689\n",
       "24    668160.5568\n",
       "25    656243.9367\n",
       "26    610462.8816\n",
       "27    625979.5047\n",
       "28    613556.4435\n",
       "29    620561.1951\n",
       "Name: XOF, dtype: float64"
      ]
     },
     "execution_count": 144,
     "metadata": {},
     "output_type": "execute_result"
    }
   ],
   "source": [
    "dataframe['XOF']"
   ]
  },
  {
   "cell_type": "code",
   "execution_count": 154,
   "metadata": {},
   "outputs": [],
   "source": [
    "# taux de change de EUR -> XOF = 655.957\n",
    "# 1 EUR -> 655.957 XOF\n",
    "#    ?  -> XXXXXX XOF\n",
    "# MONTANT / 655.957\n",
    "\n",
    "def convert_to_eur(x):\n",
    "    return x / 655.957\n",
    "\n",
    "\n",
    "dataframe['EUR'] = dataframe['XOF'].apply(convert_to_eur)"
   ]
  },
  {
   "cell_type": "code",
   "execution_count": 146,
   "metadata": {},
   "outputs": [
    {
     "data": {
      "text/plain": [
       "0      971.275720\n",
       "1     1016.278707\n",
       "2      931.946941\n",
       "3      932.691100\n",
       "4      960.708668\n",
       "5      956.643702\n",
       "6      974.503507\n",
       "7     1006.697666\n",
       "8      965.889872\n",
       "9      952.067127\n",
       "10     999.460724\n",
       "11    1015.032241\n",
       "12     934.235229\n",
       "13    1003.293141\n",
       "14     946.420825\n",
       "15     941.481472\n",
       "16     988.819257\n",
       "17     972.503581\n",
       "18     952.569434\n",
       "19     947.341721\n",
       "20     954.755400\n",
       "21     932.886441\n",
       "22     950.802058\n",
       "23     932.216699\n",
       "24    1018.604202\n",
       "25    1000.437432\n",
       "26     930.644664\n",
       "27     954.299603\n",
       "28     935.360768\n",
       "29     946.039443\n",
       "Name: EUR, dtype: float64"
      ]
     },
     "execution_count": 146,
     "metadata": {},
     "output_type": "execute_result"
    }
   ],
   "source": [
    "dataframe['EUR']"
   ]
  },
  {
   "cell_type": "code",
   "execution_count": 155,
   "metadata": {},
   "outputs": [],
   "source": [
    "def add_currency_eur_symbol(x):\n",
    "    return f'{x} EUR'\n",
    "\n",
    "\n",
    "dataframe['EUR'] = dataframe['EUR'].apply(add_currency_eur_symbol)"
   ]
  },
  {
   "cell_type": "code",
   "execution_count": 156,
   "metadata": {},
   "outputs": [
    {
     "data": {
      "text/plain": [
       "0      971.2757195974735 EUR\n",
       "1     1016.2787069884154 EUR\n",
       "2      931.9469410342446 EUR\n",
       "3      932.6910995690265 EUR\n",
       "4      960.7086684035689 EUR\n",
       "5      956.6437024073224 EUR\n",
       "6      974.5035072420907 EUR\n",
       "7      1006.697665853097 EUR\n",
       "8      965.8898722019887 EUR\n",
       "9      952.0671274184131 EUR\n",
       "10     999.4607241023419 EUR\n",
       "11    1015.0322414426555 EUR\n",
       "12     934.2352285286994 EUR\n",
       "13    1003.2931405564693 EUR\n",
       "14     946.4208245357546 EUR\n",
       "15      941.481472261139 EUR\n",
       "16     988.8192570549594 EUR\n",
       "17     972.5035811798639 EUR\n",
       "18     952.5694344293909 EUR\n",
       "19     947.3417207225473 EUR\n",
       "20     954.7554001253131 EUR\n",
       "21     932.8864411844067 EUR\n",
       "22     950.8020579092837 EUR\n",
       "23     932.2166985031031 EUR\n",
       "24     1018.604202409609 EUR\n",
       "25    1000.4374321792434 EUR\n",
       "26      930.644663598376 EUR\n",
       "27     954.2996030227592 EUR\n",
       "28      935.360768312557 EUR\n",
       "29     946.0394432866786 EUR\n",
       "Name: EUR, dtype: object"
      ]
     },
     "execution_count": 156,
     "metadata": {},
     "output_type": "execute_result"
    }
   ],
   "source": [
    "dataframe['EUR']"
   ]
  },
  {
   "cell_type": "code",
   "execution_count": null,
   "metadata": {},
   "outputs": [],
   "source": []
  }
 ],
 "metadata": {
  "kernelspec": {
   "display_name": "Python 3 (ipykernel)",
   "language": "python",
   "name": "python3"
  },
  "language_info": {
   "codemirror_mode": {
    "name": "ipython",
    "version": 3
   },
   "file_extension": ".py",
   "mimetype": "text/x-python",
   "name": "python",
   "nbconvert_exporter": "python",
   "pygments_lexer": "ipython3",
   "version": "3.9.13"
  },
  "vscode": {
   "interpreter": {
    "hash": "dbc9c32b3fdb3169a4eae6df303279ab05724f8f2b116c7c5373b9b3c05a05a5"
   }
  }
 },
 "nbformat": 4,
 "nbformat_minor": 4
}

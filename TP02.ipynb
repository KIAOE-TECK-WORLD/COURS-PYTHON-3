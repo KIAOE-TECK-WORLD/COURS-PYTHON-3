{
 "cells": [
  {
   "cell_type": "code",
   "execution_count": 1,
   "id": "e6525b29-21e0-4d8e-83b7-7ba0cabe532f",
   "metadata": {},
   "outputs": [],
   "source": [
    "List1 = [100, 200, 2, -1, 1000, 300]\n",
    "\n",
    "def minimum_list(List1):\n",
    "    minimum = List1[0]\n",
    "    \n",
    "    for x in List1:\n",
    "        if x < minimum:\n",
    "            minimum = x\n",
    "    return minimum\n"
   ]
  },
  {
   "cell_type": "code",
   "execution_count": 2,
   "id": "bfe64cec-b3df-449d-84d1-cfe5277bd0dc",
   "metadata": {},
   "outputs": [
    {
     "data": {
      "text/plain": [
       "-1"
      ]
     },
     "execution_count": 2,
     "metadata": {},
     "output_type": "execute_result"
    }
   ],
   "source": [
    "minimum_list(List1=List1)"
   ]
  },
  {
   "cell_type": "code",
   "execution_count": 3,
   "id": "81bf81ce-bc53-44c4-bd74-f2d570136022",
   "metadata": {},
   "outputs": [
    {
     "data": {
      "text/plain": [
       "3"
      ]
     },
     "execution_count": 3,
     "metadata": {},
     "output_type": "execute_result"
    }
   ],
   "source": [
    "List1 = [100, 200, 2, -1, 1000, 300]\n",
    "List2 = [-4, 200, 2, -1, 1000, 300]\n",
    "List3 = [100, 200, 2, 544, 1000, 300]\n",
    "List4 = [1000, 200, 10, 3, 1200, 300]\n",
    "\n",
    "minimum_list(List1=List1)\n",
    "# minimum_list(List1=List2)\n",
    "# minimum_list(List1=List3)\n",
    "# minimum_list(List1=List4)"
   ]
  },
  {
   "cell_type": "code",
   "execution_count": 4,
   "id": "36f8c8f1-f34f-46dd-af70-636e4281d130",
   "metadata": {},
   "outputs": [
    {
     "data": {
      "text/plain": [
       "-4"
      ]
     },
     "execution_count": 4,
     "metadata": {},
     "output_type": "execute_result"
    }
   ],
   "source": [
    "# minimum_list(List1=List1)\n",
    "minimum_list(List1=List2)\n",
    "# minimum_list(List1=List3)\n",
    "# minimum_list(List1=List4)"
   ]
  },
  {
   "cell_type": "code",
   "execution_count": 5,
   "id": "6d392981-d2ba-44ac-a31f-d574841f3591",
   "metadata": {},
   "outputs": [
    {
     "data": {
      "text/plain": [
       "2"
      ]
     },
     "execution_count": 5,
     "metadata": {},
     "output_type": "execute_result"
    }
   ],
   "source": [
    "# minimum_list(List1=List1)\n",
    "# minimum_list(List1=List2)\n",
    "minimum_list(List1=List3)\n",
    "# minimum_list(List1=List4)"
   ]
  },
  {
   "cell_type": "code",
   "execution_count": 6,
   "id": "12cc90c4-984e-46d5-964b-e0eb89e8f7e7",
   "metadata": {},
   "outputs": [
    {
     "data": {
      "text/plain": [
       "3"
      ]
     },
     "execution_count": 6,
     "metadata": {},
     "output_type": "execute_result"
    }
   ],
   "source": [
    "# minimum_list(List1=List1)\n",
    "# minimum_list(List1=List2)\n",
    "# minimum_list(List1=List3)\n",
    "minimum_list(List1=List4)"
   ]
  },
  {
   "cell_type": "code",
   "execution_count": null,
   "id": "a5a9724a-8043-4f44-ae7b-bcabae571214",
   "metadata": {},
   "outputs": [],
   "source": []
  }
 ],
 "metadata": {
  "kernelspec": {
   "display_name": "Python 3 (ipykernel)",
   "language": "python",
   "name": "python3"
  },
  "language_info": {
   "codemirror_mode": {
    "name": "ipython",
    "version": 3
   },
   "file_extension": ".py",
   "mimetype": "text/x-python",
   "name": "python",
   "nbconvert_exporter": "python",
   "pygments_lexer": "ipython3",
   "version": "3.9.13"
  }
 },
 "nbformat": 4,
 "nbformat_minor": 5
}

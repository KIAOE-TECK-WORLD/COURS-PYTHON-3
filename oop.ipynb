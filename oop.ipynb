{
 "cells": [
  {
   "cell_type": "code",
   "execution_count": 5,
   "metadata": {},
   "outputs": [],
   "source": [
    "class PersonWithoutRepr:\n",
    "    def __init__(self, firstname: str, lastname: str, age: int):\n",
    "        self.firstname = firstname\n",
    "        self.lastname = lastname\n",
    "        self.age = age\n",
    "    \n",
    "\n",
    "class PersonWithRepr:\n",
    "    def __init__(self, firstname: str, lastname: str, age: int):\n",
    "        self.firstname = firstname\n",
    "        self.lastname = lastname\n",
    "        self.age = age\n",
    "\n",
    "    def __repr__(self) -> str:\n",
    "        return f'{self.firstname} {self.lastname}'"
   ]
  },
  {
   "cell_type": "code",
   "execution_count": 6,
   "metadata": {},
   "outputs": [
    {
     "data": {
      "text/plain": [
       "<__main__.PersonWithoutRepr at 0x110933400>"
      ]
     },
     "execution_count": 6,
     "metadata": {},
     "output_type": "execute_result"
    }
   ],
   "source": [
    "# Appel d'une class sans la fonction __repr__\n",
    "person = PersonWithoutRepr(\n",
    "    firstname='Rachid',\n",
    "    lastname='SERE',\n",
    "    age=28\n",
    ")\n",
    "\n",
    "person\n"
   ]
  },
  {
   "cell_type": "code",
   "execution_count": 7,
   "metadata": {},
   "outputs": [
    {
     "data": {
      "text/plain": [
       "Rachid SERE"
      ]
     },
     "execution_count": 7,
     "metadata": {},
     "output_type": "execute_result"
    }
   ],
   "source": [
    "# Appel d'une class avec la fonction __repr__\n",
    "# A chaque instanciation de la classe c'est __repr__\n",
    "# Pour donner la description qui y a été définie\n",
    "# La fonction magique __repr__ return toujours un string\n",
    "person = PersonWithRepr(\n",
    "    firstname='Rachid',\n",
    "    lastname='SERE',\n",
    "    age=28\n",
    ")\n",
    "\n",
    "person\n"
   ]
  },
  {
   "cell_type": "code",
   "execution_count": 8,
   "metadata": {},
   "outputs": [],
   "source": [
    "\n",
    "class Person:\n",
    "    def __init__(self, firstname: str, lastname: str, age: int):\n",
    "        self.firstname = firstname\n",
    "        self.lastname = lastname\n",
    "        self.age = age\n",
    "\n",
    "    def __repr__(self) -> str:\n",
    "        return f'{self.firstname} {self.lastname}'\n",
    "    \n",
    "    \n",
    "class Speciality:\n",
    "    def __init__(self, name: str):\n",
    "        self.name = name\n",
    "        \n",
    "    def __repr__(self) -> str:\n",
    "        return self.name\n",
    "    \n",
    "    \n",
    "class Student(Person):\n",
    "    def __init__(self, *args, **kwargs):\n",
    "        # Dans **kwargs\n",
    "        # kwargs.update({'speciality': speciality})\n",
    "        # Les éléments de kwargs seront:\n",
    "        #   - firtname\n",
    "        #   - lastname\n",
    "        #   - age\n",
    "        #   - speciality\n",
    "        \n",
    "        # Utiliser la fonction pop des dictionnaires\n",
    "        self.speciality = kwargs.pop('speciality')\n",
    "        \n",
    "        # Les éléments de kwargs seront:\n",
    "        #   - firtname\n",
    "        #   - lastname\n",
    "        #   - age\n",
    "        \n",
    "        super(Student, self).__init__(*args, **kwargs)\n",
    "        \n",
    "    def __repr__(self) -> str:\n",
    "        return f\"Student ({self.firstname})\"\n",
    "    \n",
    "    def student_speciality(self) -> str:\n",
    "        return self.speciality"
   ]
  },
  {
   "cell_type": "code",
   "execution_count": 10,
   "metadata": {},
   "outputs": [],
   "source": [
    "speciality = Speciality(name=\"Data Management\")\n",
    "\n",
    "student = Student(\n",
    "    firstname = \"Rachid\",\n",
    "    lastname = \"SERE\",\n",
    "    age= 28,\n",
    "    speciality=speciality\n",
    ")"
   ]
  },
  {
   "cell_type": "code",
   "execution_count": 11,
   "metadata": {},
   "outputs": [
    {
     "data": {
      "text/plain": [
       "Data Management"
      ]
     },
     "execution_count": 11,
     "metadata": {},
     "output_type": "execute_result"
    }
   ],
   "source": [
    "student.student_speciality()"
   ]
  },
  {
   "cell_type": "code",
   "execution_count": 18,
   "metadata": {},
   "outputs": [],
   "source": [
    "# Calcule de moyenne a partir d'une liste de données\n",
    "# La liste des informations de l'étudiant\n",
    "# Etudiant: la liste des matiere avec les notes\n",
    "[\n",
    "    ('Rachid', [('Anglais', 20), ('Math', 15)]),\n",
    "    ('Doris', [('Anglais', 12), ('Math', 18)]),\n",
    "    ('Dosso', [('Anglais', 15), ('Math', 15)]),\n",
    "    ('Yanon', [('Anglais', 8), ('Math', 10)]),\n",
    "]\n",
    "\n",
    "\n",
    "class Person:\n",
    "    def __init__(self, firstname: str, lastname: str, age: int):\n",
    "        self.firstname = firstname\n",
    "        self.lastname = lastname\n",
    "        self.age = age\n",
    "\n",
    "    def __repr__(self) -> str:\n",
    "        return f'{self.firstname} {self.lastname}'\n",
    "\n",
    "\n",
    "class Speciality:\n",
    "    def __init__(self, name: str):\n",
    "        self.name = name\n",
    "\n",
    "    def __repr__(self) -> str:\n",
    "        return self.name\n",
    "\n",
    "\n",
    "class Subject:\n",
    "    def __init__(self, name: str):\n",
    "        self.name = name\n",
    "        \n",
    "    def __repr__(self) -> str:\n",
    "        return self.name\n",
    "    \n",
    "    @property\n",
    "    def matricule(self) -> str:\n",
    "        return self.name.lower()\n",
    "    \n",
    "    \n",
    "class Student(Person):\n",
    "    def __init__(self, *args, **kwargs):\n",
    "        self.speciality = kwargs.pop('speciality')\n",
    "        super(Student, self).__init__(*args, **kwargs)\n",
    "\n",
    "    def __repr__(self) -> str:\n",
    "        return f\"Student ({self.firstname})\"\n",
    "\n",
    "    @property\n",
    "    def matricule(self) -> str:\n",
    "        return f'{self.firstname.upper()}-{self.lastname.upper()}'\n",
    "    \n",
    "    def full_name(self) -> str:\n",
    "        return f'{self.firstname} {self.lastname}'\n",
    "    \n",
    "    def student_speciality(self) -> str:\n",
    "        return self.speciality\n",
    "\n",
    "\n",
    "class School:\n",
    "    def __init__(self, student: Student):\n",
    "        self.student = student\n",
    "        \n",
    "    def __repr__(self) -> str:\n",
    "        return 'School'\n",
    "        \n",
    "    def add_note(\n",
    "        self, \n",
    "        note: float, \n",
    "        subject: Subject, \n",
    "        stack: dict\n",
    "    ) -> dict:\n",
    "        getter = stack.get(self.student.matricule)\n",
    "        \n",
    "        if not getter:\n",
    "            stack.update({self.student.matricule: {\n",
    "                subject.matricule: note\n",
    "            }}) \n",
    "        else:\n",
    "            getter.update({subject.matricule: note})\n",
    "            \n",
    "        return stack"
   ]
  },
  {
   "cell_type": "code",
   "execution_count": 20,
   "metadata": {},
   "outputs": [
    {
     "data": {
      "text/plain": [
       "{'RACHID-SERE': {'anglais': 18}}"
      ]
     },
     "execution_count": 20,
     "metadata": {},
     "output_type": "execute_result"
    }
   ],
   "source": [
    "STACK = {}\n",
    "\n",
    "\n",
    "speciality = Speciality(name=\"Data Management\")\n",
    "\n",
    "student = Student(\n",
    "    firstname=\"Rachid\",\n",
    "    lastname=\"SERE\",\n",
    "    age=28,\n",
    "    speciality=speciality\n",
    ")\n",
    "\n",
    "school = School(student=student)\n",
    "\n",
    "school.add_note(\n",
    "    note=18,\n",
    "    subject=Subject(name='Anglais'),\n",
    "    stack=STACK\n",
    ")\n",
    "\n",
    "STACK"
   ]
  },
  {
   "cell_type": "code",
   "execution_count": 22,
   "metadata": {},
   "outputs": [
    {
     "data": {
      "text/plain": [
       "{'RACHID-SERE': {'anglais': 18, 'mathematics': 15, 'french': 10, 'sport': 18}}"
      ]
     },
     "execution_count": 22,
     "metadata": {},
     "output_type": "execute_result"
    }
   ],
   "source": [
    "school.add_note(\n",
    "    note=15,\n",
    "    subject=Subject(name='Mathematics'),\n",
    "    stack=STACK\n",
    ")\n",
    "\n",
    "school.add_note(\n",
    "    note=10,\n",
    "    subject=Subject(name='French'),\n",
    "    stack=STACK\n",
    ")\n",
    "\n",
    "school.add_note(\n",
    "    note=18,\n",
    "    subject=Subject(name='Sport'),\n",
    "    stack=STACK\n",
    ")\n"
   ]
  },
  {
   "cell_type": "code",
   "execution_count": 23,
   "metadata": {},
   "outputs": [
    {
     "data": {
      "text/plain": [
       "{'RACHID-SERE': {'anglais': 18, 'mathematics': 15, 'french': 10, 'sport': 18},\n",
       " 'ISRAEL-KUASSI': {'anglais': 12,\n",
       "  'mathematics': 18,\n",
       "  'french': 18,\n",
       "  'sport': 12}}"
      ]
     },
     "execution_count": 23,
     "metadata": {},
     "output_type": "execute_result"
    }
   ],
   "source": [
    "# Ajouter un autre étudinant\n",
    "\n",
    "speciality = Speciality(name=\"Data Management\")\n",
    "\n",
    "student = Student(\n",
    "    firstname=\"Israel\",\n",
    "    lastname=\"KUASSI\",\n",
    "    age=28,\n",
    "    speciality=speciality\n",
    ")\n",
    "\n",
    "school = School(student=student)\n",
    "\n",
    "school.add_note(\n",
    "    note=12,\n",
    "    subject=Subject(name='Anglais'),\n",
    "    stack=STACK\n",
    ")\n",
    "\n",
    "school.add_note(\n",
    "    note=18,\n",
    "    subject=Subject(name='Mathematics'),\n",
    "    stack=STACK\n",
    ")\n",
    "\n",
    "school.add_note(\n",
    "    note=18,\n",
    "    subject=Subject(name='French'),\n",
    "    stack=STACK\n",
    ")\n",
    "\n",
    "school.add_note(\n",
    "    note=12,\n",
    "    subject=Subject(name='Sport'),\n",
    "    stack=STACK\n",
    ")\n",
    "\n"
   ]
  },
  {
   "cell_type": "code",
   "execution_count": 24,
   "metadata": {},
   "outputs": [],
   "source": [
    "# Ecrire une fonction qui calcule la moyenne:\n",
    "# La moyenne de l'étudiant\n",
    "def moy(student: Student, stack: dict):\n",
    "    list_notes = stack.get(student.matricule).values()\n",
    "    moyenne = sum(list_notes) / len(list_notes)\n",
    "    return moyenne"
   ]
  },
  {
   "cell_type": "code",
   "execution_count": 25,
   "metadata": {},
   "outputs": [
    {
     "data": {
      "text/plain": [
       "15.0"
      ]
     },
     "execution_count": 25,
     "metadata": {},
     "output_type": "execute_result"
    }
   ],
   "source": [
    "moy(student=student, stack=STACK)"
   ]
  },
  {
   "cell_type": "code",
   "execution_count": 35,
   "metadata": {},
   "outputs": [],
   "source": [
    "# Ecrire une fonction qui calcule la moyenne\n",
    "# Calculer la moyenne de la classe\n",
    "def moy_class(stack: dict) -> float:\n",
    "    var_inter = []\n",
    "    for student_matricule, dict_notes in stack.items():\n",
    "        var_inter.extend(list(dict_notes.values()))\n",
    "    \n",
    "    if len(var_inter) > 0:\n",
    "        moyenne = sum(var_inter) / len(var_inter)\n",
    "        return moyenne\n",
    "    \n",
    "    return 0.\n"
   ]
  },
  {
   "cell_type": "code",
   "execution_count": 37,
   "metadata": {},
   "outputs": [
    {
     "data": {
      "text/plain": [
       "15.125"
      ]
     },
     "execution_count": 37,
     "metadata": {},
     "output_type": "execute_result"
    }
   ],
   "source": [
    "# Dans un cas pratique la STACK ( file, base de données )\n",
    "moy_class(stack=STACK)\n"
   ]
  },
  {
   "cell_type": "code",
   "execution_count": null,
   "metadata": {},
   "outputs": [],
   "source": []
  }
 ],
 "metadata": {
  "kernelspec": {
   "display_name": "env",
   "language": "python",
   "name": "python3"
  },
  "language_info": {
   "codemirror_mode": {
    "name": "ipython",
    "version": 3
   },
   "file_extension": ".py",
   "mimetype": "text/x-python",
   "name": "python",
   "nbconvert_exporter": "python",
   "pygments_lexer": "ipython3",
   "version": "3.9.13"
  },
  "orig_nbformat": 4,
  "vscode": {
   "interpreter": {
    "hash": "dbc9c32b3fdb3169a4eae6df303279ab05724f8f2b116c7c5373b9b3c05a05a5"
   }
  }
 },
 "nbformat": 4,
 "nbformat_minor": 2
}
